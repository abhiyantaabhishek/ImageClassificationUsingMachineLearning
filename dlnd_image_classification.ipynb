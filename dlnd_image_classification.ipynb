{
 "cells": [
  {
   "cell_type": "markdown",
   "metadata": {
    "colab_type": "text",
    "id": "kWeh6Hn-VOFY"
   },
   "source": [
    "# Image Classification\n",
    "In this project, you'll classify images from the [CIFAR-10 dataset](https://www.cs.toronto.edu/~kriz/cifar.html).  The dataset consists of airplanes, dogs, cats, and other objects. You'll preprocess the images, then train a convolutional neural network on all the samples. The images need to be normalized and the labels need to be one-hot encoded.  You'll get to apply what you learned and build a convolutional, max pooling, dropout, and fully connected layers.  At the end, you'll get to see your neural network's predictions on the sample images.\n",
    "## Get the Data\n",
    "Run the following cell to download the [CIFAR-10 dataset for python](https://www.cs.toronto.edu/~kriz/cifar-10-python.tar.gz)."
   ]
  },
  {
   "cell_type": "code",
   "execution_count": 1,
   "metadata": {
    "colab": {
     "autoexec": {
      "startup": false,
      "wait_interval": 0
     },
     "base_uri": "https://localhost:8080/",
     "height": 34
    },
    "colab_type": "code",
    "executionInfo": {
     "elapsed": 1062,
     "status": "ok",
     "timestamp": 1528622005987,
     "user": {
      "displayName": "ABHISHEK DUBEY",
      "photoUrl": "https://lh3.googleusercontent.com/a/default-user=s128",
      "userId": "115074753493421841240"
     },
     "user_tz": -330
    },
    "id": "nWx7-YMqVOFh",
    "outputId": "8fccbdda-1591-4fe9-dc74-25f5315cc75a"
   },
   "outputs": [
    {
     "name": "stderr",
     "output_type": "stream",
     "text": [
      "/home/abhiyantaabhishek1/anaconda3/lib/python3.6/site-packages/h5py/__init__.py:36: FutureWarning: Conversion of the second argument of issubdtype from `float` to `np.floating` is deprecated. In future, it will be treated as `np.float64 == np.dtype(float).type`.\n",
      "  from ._conv import register_converters as _register_converters\n"
     ]
    },
    {
     "name": "stdout",
     "output_type": "stream",
     "text": [
      "All files found!\n"
     ]
    }
   ],
   "source": [
    "\"\"\"\n",
    "DON'T MODIFY ANYTHING IN THIS CELL THAT IS BELOW THIS LINE\n",
    "\"\"\"\n",
    "from urllib.request import urlretrieve\n",
    "from os.path import isfile, isdir\n",
    "from tqdm import tqdm\n",
    "import problem_unittests as tests\n",
    "import tarfile\n",
    "\n",
    "cifar10_dataset_folder_path = 'cifar-10-batches-py'\n",
    "\n",
    "class DLProgress(tqdm):\n",
    "    last_block = 0\n",
    "\n",
    "    def hook(self, block_num=1, block_size=1, total_size=None):\n",
    "        self.total = total_size\n",
    "        self.update((block_num - self.last_block) * block_size)\n",
    "        self.last_block = block_num\n",
    "\n",
    "if not isfile('cifar-10-python.tar.gz'):\n",
    "    with DLProgress(unit='B', unit_scale=True, miniters=1, desc='CIFAR-10 Dataset') as pbar:\n",
    "        urlretrieve(\n",
    "            'https://www.cs.toronto.edu/~kriz/cifar-10-python.tar.gz',\n",
    "            'cifar-10-python.tar.gz',\n",
    "            pbar.hook)\n",
    "\n",
    "if not isdir(cifar10_dataset_folder_path):\n",
    "    with tarfile.open('cifar-10-python.tar.gz') as tar:\n",
    "        tar.extractall()\n",
    "        tar.close()\n",
    "\n",
    "\n",
    "tests.test_folder_path(cifar10_dataset_folder_path)"
   ]
  },
  {
   "cell_type": "markdown",
   "metadata": {
    "colab_type": "text",
    "id": "nQWWDzPaVOHA"
   },
   "source": [
    "## Explore the Data\n",
    "The dataset is broken into batches to prevent your machine from running out of memory.  The CIFAR-10 dataset consists of 5 batches, named `data_batch_1`, `data_batch_2`, etc.. Each batch contains the labels and images that are one of the following:\n",
    "* airplane\n",
    "* automobile\n",
    "* bird\n",
    "* cat\n",
    "* deer\n",
    "* dog\n",
    "* frog\n",
    "* horse\n",
    "* ship\n",
    "* truck\n",
    "\n",
    "Understanding a dataset is part of making predictions on the data.  Play around with the code cell below by changing the `batch_id` and `sample_id`. The `batch_id` is the id for a batch (1-5). The `sample_id` is the id for a image and label pair in the batch.\n",
    "\n",
    "Ask yourself \"What are all possible labels?\", \"What is the range of values for the image data?\", \"Are the labels in order or random?\".  Answers to questions like these will help you preprocess the data and end up with better predictions."
   ]
  },
  {
   "cell_type": "code",
   "execution_count": 2,
   "metadata": {
    "colab": {
     "autoexec": {
      "startup": false,
      "wait_interval": 0
     },
     "base_uri": "https://localhost:8080/",
     "height": 435
    },
    "colab_type": "code",
    "executionInfo": {
     "elapsed": 985,
     "status": "ok",
     "timestamp": 1528622007206,
     "user": {
      "displayName": "ABHISHEK DUBEY",
      "photoUrl": "https://lh3.googleusercontent.com/a/default-user=s128",
      "userId": "115074753493421841240"
     },
     "user_tz": -330
    },
    "id": "iUCzPizGVOHI",
    "outputId": "581f5f9e-ed1e-4341-e4f2-2ba225469be9"
   },
   "outputs": [
    {
     "name": "stdout",
     "output_type": "stream",
     "text": [
      "\n",
      "Stats of batch 1:\n",
      "Samples: 10000\n",
      "Label Counts: {0: 1005, 1: 974, 2: 1032, 3: 1016, 4: 999, 5: 937, 6: 1030, 7: 1001, 8: 1025, 9: 981}\n",
      "First 20 Labels: [6, 9, 9, 4, 1, 1, 2, 7, 8, 3, 4, 7, 7, 2, 9, 9, 9, 3, 2, 6]\n",
      "\n",
      "Example of Image 3:\n",
      "Image - Min Value: 4 Max Value: 234\n",
      "Image - Shape: (32, 32, 3)\n",
      "Label - Label Id: 4 Name: deer\n"
     ]
    },
    {
     "data": {
      "image/png": "[encoded data removed]",
      "text/plain": [
       "<Figure size 432x288 with 1 Axes>"
      ]
     },
     "metadata": {
      "image/png": {
       "height": 250,
       "width": 253
      }
     },
     "output_type": "display_data"
    }
   ],
   "source": [
    "%matplotlib inline\n",
    "%config InlineBackend.figure_format = 'retina'\n",
    "\n",
    "import helper \n",
    "import numpy as np\n",
    "\n",
    "# Explore the dataset\n",
    "batch_id = 1\n",
    "sample_id = 3\n",
    "helper.display_stats(cifar10_dataset_folder_path, batch_id, sample_id)"
   ]
  },
  {
   "cell_type": "markdown",
   "metadata": {
    "colab_type": "text",
    "id": "Gk9JF2uDVOIS"
   },
   "source": [
    "## Implement Preprocess Functions\n",
    "### Normalize\n",
    "In the cell below, implement the `normalize` function to take in image data, `x`, and return it as a normalized Numpy array. The values should be in the range of 0 to 1, inclusive.  The return object should be the same shape as `x`."
   ]
  },
  {
   "cell_type": "code",
   "execution_count": 3,
   "metadata": {
    "colab": {
     "autoexec": {
      "startup": false,
      "wait_interval": 0
     },
     "base_uri": "https://localhost:8080/",
     "height": 34
    },
    "colab_type": "code",
    "executionInfo": {
     "elapsed": 1019,
     "status": "ok",
     "timestamp": 1528622008654,
     "user": {
      "displayName": "ABHISHEK DUBEY",
      "photoUrl": "https://lh3.googleusercontent.com/a/default-user=s128",
      "userId": "115074753493421841240"
     },
     "user_tz": -330
    },
    "id": "Xy7O7l9iVOIZ",
    "outputId": "8e85798e-c0ca-4705-fd8a-a681a57d8170"
   },
   "outputs": [
    {
     "name": "stdout",
     "output_type": "stream",
     "text": [
      "Tests Passed\n"
     ]
    }
   ],
   "source": [
    "def normalize(x):\n",
    "    \"\"\"\n",
    "    Normalize a list of sample image data in the range of 0 to 1\n",
    "    : x: List of image data.  The image shape is (32, 32, 3)\n",
    "    : return: Numpy array of normalize data\n",
    "    \"\"\"\n",
    "    # TODO: Implement Function\n",
    "  \n",
    "    if(np.max(x)-np.min(x))!=0:\n",
    "        normalized = (x-np.min(x))/(np.max(x)-np.min(x))\n",
    "    else:\n",
    "        normalized = 1/(x )\n",
    "    return normalized\n",
    "\n",
    "\n",
    "\"\"\"\n",
    "DON'T MODIFY ANYTHING IN THIS CELL THAT IS BELOW THIS LINE\n",
    "\"\"\"\n",
    "tests.test_normalize(normalize)"
   ]
  },
  {
   "cell_type": "markdown",
   "metadata": {
    "colab_type": "text",
    "id": "gPudJA9IVOJ-"
   },
   "source": [
    "### One-hot encode\n",
    "Just like the previous code cell, you'll be implementing a function for preprocessing.  This time, you'll implement the `one_hot_encode` function. The input, `x`, are a list of labels.  Implement the function to return the list of labels as One-Hot encoded Numpy array.  The possible values for labels are 0 to 9. The one-hot encoding function should return the same encoding for each value between each call to `one_hot_encode`.  Make sure to save the map of encodings outside the function.\n",
    "\n",
    "**Hint:**\n",
    "\n",
    "Look into LabelBinarizer in the preprocessing module of sklearn."
   ]
  },
  {
   "cell_type": "code",
   "execution_count": 4,
   "metadata": {
    "colab": {
     "autoexec": {
      "startup": false,
      "wait_interval": 0
     },
     "base_uri": "https://localhost:8080/",
     "height": 34
    },
    "colab_type": "code",
    "executionInfo": {
     "elapsed": 1286,
     "status": "ok",
     "timestamp": 1528622010138,
     "user": {
      "displayName": "ABHISHEK DUBEY",
      "photoUrl": "https://lh3.googleusercontent.com/a/default-user=s128",
      "userId": "115074753493421841240"
     },
     "user_tz": -330
    },
    "id": "4gQfMavsVOKr",
    "outputId": "9ebd5db7-d1be-4084-c439-02dbada4f325"
   },
   "outputs": [
    {
     "name": "stdout",
     "output_type": "stream",
     "text": [
      "Tests Passed\n"
     ]
    }
   ],
   "source": [
    "def one_hot_encode(x):\n",
    "    \n",
    "    eccodemap=[]\n",
    "    \n",
    "    for val in x:\n",
    "        temp1=np.zeros(10,dtype=int)\n",
    "        temp1[val]=1\n",
    "        eccodemap.append(temp1)\n",
    "       \n",
    "    \"\"\"\n",
    "    One hot encode a list of sample labels. Return a one-hot encoded vector for each label.\n",
    "    : x: List of sample Labels\n",
    "    : return: Numpy array of one-hot encoded labels\n",
    "    \"\"\"\n",
    "    # TODO: Implement Function\n",
    "    return np.array(eccodemap)\n",
    "\n",
    "\n",
    "\"\"\"\n",
    "DON'T MODIFY ANYTHING IN THIS CELL THAT IS BELOW THIS LINE\n",
    "\"\"\"\n",
    "tests.test_one_hot_encode(one_hot_encode)"
   ]
  },
  {
   "cell_type": "markdown",
   "metadata": {
    "colab_type": "text",
    "id": "OwZ08-DvVOMH"
   },
   "source": [
    "### Randomize Data\n",
    "As you saw from exploring the data above, the order of the samples are randomized.  It doesn't hurt to randomize it again, but you don't need to for this dataset."
   ]
  },
  {
   "cell_type": "markdown",
   "metadata": {
    "colab_type": "text",
    "id": "0h_sB0YOVOMM"
   },
   "source": [
    "## Preprocess all the data and save it\n",
    "Running the code cell below will preprocess all the CIFAR-10 data and save it to file. The code below also uses 10% of the training data for validation."
   ]
  },
  {
   "cell_type": "code",
   "execution_count": 5,
   "metadata": {
    "colab": {
     "autoexec": {
      "startup": false,
      "wait_interval": 0
     }
    },
    "colab_type": "code",
    "id": "bCgOfpy6VOMS"
   },
   "outputs": [],
   "source": [
    "\"\"\"\n",
    "DON'T MODIFY ANYTHING IN THIS CELL\n",
    "\"\"\"\n",
    "# Preprocess Training, Validation, and Testing Data\n",
    "helper.preprocess_and_save_data(cifar10_dataset_folder_path, normalize, one_hot_encode)"
   ]
  },
  {
   "cell_type": "markdown",
   "metadata": {
    "colab_type": "text",
    "id": "ZL1-3urUVOMu"
   },
   "source": [
    "# Check Point\n",
    "This is your first checkpoint.  If you ever decide to come back to this notebook or have to restart the notebook, you can start from here.  The preprocessed data has been saved to disk."
   ]
  },
  {
   "cell_type": "code",
   "execution_count": 6,
   "metadata": {
    "colab": {
     "autoexec": {
      "startup": false,
      "wait_interval": 0
     }
    },
    "colab_type": "code",
    "id": "k-ShKLx6VOM0"
   },
   "outputs": [],
   "source": [
    "\"\"\"\n",
    "DON'T MODIFY ANYTHING IN THIS CELL\n",
    "\"\"\"\n",
    "import pickle\n",
    "import problem_unittests as tests\n",
    "import helper\n",
    "import problem_unittests as tests\n",
    "# Load the Preprocessed Validation data\n",
    "valid_features, valid_labels = pickle.load(open('preprocess_validation.p', mode='rb'))"
   ]
  },
  {
   "cell_type": "markdown",
   "metadata": {
    "colab_type": "text",
    "id": "tJ4yv81DVONx"
   },
   "source": [
    "## Build the network\n",
    "For the neural network, you'll build each layer into a function.  Most of the code you've seen has been outside of functions. To test your code more thoroughly, we require that you put each layer in a function.  This allows us to give you better feedback and test for simple mistakes using our unittests before you submit your project.\n",
    "\n",
    ">**Note:** If you're finding it hard to dedicate enough time for this course each week, we've provided a small shortcut to this part of the project. In the next couple of problems, you'll have the option to use classes from the [TensorFlow Layers](https://www.tensorflow.org/api_docs/python/tf/layers) or [TensorFlow Layers (contrib)](https://www.tensorflow.org/api_guides/python/contrib.layers) packages to build each layer, except the layers you build in the \"Convolutional and Max Pooling Layer\" section.  TF Layers is similar to Keras's and TFLearn's abstraction to layers, so it's easy to pickup.\n",
    "\n",
    ">However, if you would like to get the most out of this course, try to solve all the problems _without_ using anything from the TF Layers packages. You **can** still use classes from other packages that happen to have the same name as ones you find in TF Layers! For example, instead of using the TF Layers version of the `conv2d` class, [tf.layers.conv2d](https://www.tensorflow.org/api_docs/python/tf/layers/conv2d), you would want to use the TF Neural Network version of `conv2d`, [tf.nn.conv2d](https://www.tensorflow.org/api_docs/python/tf/nn/conv2d). \n",
    "\n",
    "Let's begin!\n",
    "\n",
    "### Input\n",
    "The neural network needs to read the image data, one-hot encoded labels, and dropout keep probability. Implement the following functions\n",
    "* Implement `neural_net_image_input`\n",
    " * Return a [TF Placeholder](https://www.tensorflow.org/api_docs/python/tf/placeholder)\n",
    " * Set the shape using `image_shape` with batch size set to `None`.\n",
    " * Name the TensorFlow placeholder \"x\" using the TensorFlow `name` parameter in the [TF Placeholder](https://www.tensorflow.org/api_docs/python/tf/placeholder).\n",
    "* Implement `neural_net_label_input`\n",
    " * Return a [TF Placeholder](https://www.tensorflow.org/api_docs/python/tf/placeholder)\n",
    " * Set the shape using `n_classes` with batch size set to `None`.\n",
    " * Name the TensorFlow placeholder \"y\" using the TensorFlow `name` parameter in the [TF Placeholder](https://www.tensorflow.org/api_docs/python/tf/placeholder).\n",
    "* Implement `neural_net_keep_prob_input`\n",
    " * Return a [TF Placeholder](https://www.tensorflow.org/api_docs/python/tf/placeholder) for dropout keep probability.\n",
    " * Name the TensorFlow placeholder \"keep_prob\" using the TensorFlow `name` parameter in the [TF Placeholder](https://www.tensorflow.org/api_docs/python/tf/placeholder).\n",
    "\n",
    "These names will be used at the end of the project to load your saved model.\n",
    "\n",
    "Note: `None` for shapes in TensorFlow allow for a dynamic size."
   ]
  },
  {
   "cell_type": "code",
   "execution_count": 7,
   "metadata": {
    "colab": {
     "autoexec": {
      "startup": false,
      "wait_interval": 0
     },
     "base_uri": "https://localhost:8080/",
     "height": 68
    },
    "colab_type": "code",
    "executionInfo": {
     "elapsed": 915,
     "status": "ok",
     "timestamp": 1528622027038,
     "user": {
      "displayName": "ABHISHEK DUBEY",
      "photoUrl": "https://lh3.googleusercontent.com/a/default-user=s128",
      "userId": "115074753493421841240"
     },
     "user_tz": -330
    },
    "id": "mwF2pN8YVON3",
    "outputId": "1f71fccf-f946-4e23-a9aa-022015993418"
   },
   "outputs": [
    {
     "name": "stdout",
     "output_type": "stream",
     "text": [
      "Image Input Tests Passed.\n",
      "Label Input Tests Passed.\n",
      "Keep Prob Tests Passed.\n"
     ]
    }
   ],
   "source": [
    "import tensorflow as tf\n",
    "\n",
    "def neural_net_image_input(image_shape):\n",
    "    \"\"\"\n",
    "    Return a Tensor for a batch of image input\n",
    "    : image_shape: Shape of the images\n",
    "    : return: Tensor for image input.\n",
    "    \"\"\"\n",
    "    # TODO: Implement Function\n",
    "    return tf.placeholder(tf.float32,shape=(None,image_shape[0],image_shape[1],image_shape[2]),name=\"x\")\n",
    "\n",
    "\n",
    "def neural_net_label_input(n_classes):\n",
    "    \"\"\"\n",
    "    Return a Tensor for a batch of label input\n",
    "    : n_classes: Number of classes\n",
    "    : return: Tensor for label input.\n",
    "    \"\"\"\n",
    "    # TODO: Implement Function\n",
    "    return tf.placeholder(tf.float32,shape=(None,n_classes),name=\"y\")\n",
    "\n",
    "\n",
    "\n",
    "def neural_net_keep_prob_input():\n",
    "    \"\"\"\n",
    "    Return a Tensor for keep probability\n",
    "    : return: Tensor for keep probability.\n",
    "    \"\"\"\n",
    "    # TODO: Implement Function\n",
    "    return tf.placeholder(tf.float32,name=\"keep_prob\")\n",
    "\n",
    "\n",
    "\"\"\"\n",
    "DON'T MODIFY ANYTHING IN THIS CELL THAT IS BELOW THIS LINE\n",
    "\"\"\"\n",
    "tf.reset_default_graph()\n",
    "tests.test_nn_image_inputs(neural_net_image_input)\n",
    "tests.test_nn_label_inputs(neural_net_label_input)\n",
    "tests.test_nn_keep_prob_inputs(neural_net_keep_prob_input)"
   ]
  },
  {
   "cell_type": "markdown",
   "metadata": {
    "colab_type": "text",
    "id": "dePKRtNqVOO0"
   },
   "source": [
    "### Convolution and Max Pooling Layer\n",
    "Convolution layers have a lot of success with images. For this code cell, you should implement the function `conv2d_maxpool` to apply convolution then max pooling:\n",
    "* Create the weight and bias using `conv_ksize`, `conv_num_outputs` and the shape of `x_tensor`.\n",
    "* Apply a convolution to `x_tensor` using weight and `conv_strides`.\n",
    " * We recommend you use same padding, but you're welcome to use any padding.\n",
    "* Add bias\n",
    "* Add a nonlinear activation to the convolution.\n",
    "* Apply Max Pooling using `pool_ksize` and `pool_strides`.\n",
    " * We recommend you use same padding, but you're welcome to use any padding.\n",
    "\n",
    "**Note:** You **can't** use [TensorFlow Layers](https://www.tensorflow.org/api_docs/python/tf/layers) or [TensorFlow Layers (contrib)](https://www.tensorflow.org/api_guides/python/contrib.layers) for **this** layer, but you can still use TensorFlow's [Neural Network](https://www.tensorflow.org/api_docs/python/tf/nn) package. You may still use the shortcut option for all the **other** layers.\n",
    "\n",
    "** Hint: **\n",
    "\n",
    "When unpacking values as an argument in Python, look into the [unpacking](https://docs.python.org/3/tutorial/controlflow.html#unpacking-argument-lists) operator. "
   ]
  },
  {
   "cell_type": "code",
   "execution_count": 8,
   "metadata": {
    "colab": {
     "autoexec": {
      "startup": false,
      "wait_interval": 0
     },
     "base_uri": "https://localhost:8080/",
     "height": 34
    },
    "colab_type": "code",
    "executionInfo": {
     "elapsed": 901,
     "status": "ok",
     "timestamp": 1528622028134,
     "user": {
      "displayName": "ABHISHEK DUBEY",
      "photoUrl": "https://lh3.googleusercontent.com/a/default-user=s128",
      "userId": "115074753493421841240"
     },
     "user_tz": -330
    },
    "id": "6qNplzpUVOO6",
    "outputId": "9b80023c-3c5c-46f6-daeb-a34ff0636d79"
   },
   "outputs": [
    {
     "name": "stdout",
     "output_type": "stream",
     "text": [
      "Tests Passed\n"
     ]
    }
   ],
   "source": [
    "def conv2d_maxpool(x_tensor, conv_num_outputs, conv_ksize, conv_strides, pool_ksize, pool_strides):\n",
    "    \"\"\"\n",
    "    Apply convolution then max pooling to x_tensor\n",
    "    :param x_tensor: TensorFlow Tensor\n",
    "    :param conv_num_outputs: Number of outputs for the convolutional layer\n",
    "    :param conv_ksize: kernal size 2-D Tuple for the convolutional layer\n",
    "    :param conv_strides: Stride 2-D Tuple for convolution\n",
    "    :param pool_ksize: kernal size 2-D Tuple for pool\n",
    "    :param pool_strides: Stride 2-D Tuple for pool\n",
    "    : return: A tensor that represents convolution and max pooling of x_tensor\n",
    "    \"\"\"\n",
    "    \n",
    "    # TODO: Implement Function\n",
    "    weight = tf.Variable(tf.truncated_normal([conv_ksize[0], conv_ksize[1], x_tensor.get_shape().as_list()[3], conv_num_outputs],mean=0,stddev=0.1))\n",
    "\n",
    "    bias = tf.Variable(tf.zeros(conv_num_outputs))\n",
    "    conv_layer = tf.nn.conv2d(x_tensor, weight, strides=[1, conv_strides[0], conv_strides[1], 1], padding='SAME')\n",
    "    conv_layer = tf.nn.bias_add(conv_layer, bias)\n",
    "    conv_layer = tf.nn.relu(conv_layer)\n",
    "    conv_layer = tf.nn.max_pool(conv_layer, ksize=[1, pool_ksize[0], pool_ksize[1], 1],\n",
    "                                strides=[1, pool_strides[0], pool_strides[1], 1], padding='SAME')\n",
    "    return conv_layer \n",
    "\n",
    "\n",
    "\"\"\"\n",
    "DON'T MODIFY ANYTHING IN THIS CELL THAT IS BELOW THIS LINE\n",
    "\"\"\"\n",
    "tests.test_con_pool(conv2d_maxpool)"
   ]
  },
  {
   "cell_type": "markdown",
   "metadata": {
    "colab_type": "text",
    "id": "sOiC0uFEVOPz"
   },
   "source": [
    "### Flatten Layer\n",
    "Implement the `flatten` function to change the dimension of `x_tensor` from a 4-D tensor to a 2-D tensor.  The output should be the shape (*Batch Size*, *Flattened Image Size*). Shortcut option: you can use classes from the [TensorFlow Layers](https://www.tensorflow.org/api_docs/python/tf/layers) or [TensorFlow Layers (contrib)](https://www.tensorflow.org/api_guides/python/contrib.layers) packages for this layer. For more of a challenge, only use other TensorFlow packages."
   ]
  },
  {
   "cell_type": "code",
   "execution_count": 9,
   "metadata": {
    "colab": {
     "autoexec": {
      "startup": false,
      "wait_interval": 0
     },
     "base_uri": "https://localhost:8080/",
     "height": 34
    },
    "colab_type": "code",
    "executionInfo": {
     "elapsed": 946,
     "status": "ok",
     "timestamp": 1528622029286,
     "user": {
      "displayName": "ABHISHEK DUBEY",
      "photoUrl": "https://lh3.googleusercontent.com/a/default-user=s128",
      "userId": "115074753493421841240"
     },
     "user_tz": -330
    },
    "id": "qECxj8uqVOP8",
    "outputId": "55af23ee-4e4b-43f7-956e-f4fb99086e1d"
   },
   "outputs": [
    {
     "name": "stdout",
     "output_type": "stream",
     "text": [
      "Tests Passed\n"
     ]
    }
   ],
   "source": [
    "def flatten(x_tensor):\n",
    "    \"\"\"\n",
    "    Flatten x_tensor to (Batch Size, Flattened Image Size)\n",
    "    : x_tensor: A tensor of size (Batch Size, ...), where ... are the image dimensions.\n",
    "    : return: A tensor of size (Batch Size, Flattened Image Size).\n",
    "    \"\"\"\n",
    "    # TODO: Implement Function\n",
    "    return tf.layers.flatten(x_tensor)\n",
    "\n",
    "\n",
    "\"\"\"\n",
    "DON'T MODIFY ANYTHING IN THIS CELL THAT IS BELOW THIS LINE\n",
    "\"\"\"\n",
    "tests.test_flatten(flatten)"
   ]
  },
  {
   "cell_type": "markdown",
   "metadata": {
    "colab_type": "text",
    "id": "ZGdBH8VQVORB"
   },
   "source": [
    "### Fully-Connected Layer\n",
    "Implement the `fully_conn` function to apply a fully connected layer to `x_tensor` with the shape (*Batch Size*, *num_outputs*). Shortcut option: you can use classes from the [TensorFlow Layers](https://www.tensorflow.org/api_docs/python/tf/layers) or [TensorFlow Layers (contrib)](https://www.tensorflow.org/api_guides/python/contrib.layers) packages for this layer. For more of a challenge, only use other TensorFlow packages."
   ]
  },
  {
   "cell_type": "code",
   "execution_count": 10,
   "metadata": {
    "colab": {
     "autoexec": {
      "startup": false,
      "wait_interval": 0
     },
     "base_uri": "https://localhost:8080/",
     "height": 34
    },
    "colab_type": "code",
    "executionInfo": {
     "elapsed": 903,
     "status": "ok",
     "timestamp": 1528622030420,
     "user": {
      "displayName": "ABHISHEK DUBEY",
      "photoUrl": "https://lh3.googleusercontent.com/a/default-user=s128",
      "userId": "115074753493421841240"
     },
     "user_tz": -330
    },
    "id": "Sl-alXEhVORH",
    "outputId": "af855681-4b9a-48b6-cd96-8b1e47b69b35"
   },
   "outputs": [
    {
     "name": "stdout",
     "output_type": "stream",
     "text": [
      "Tests Passed\n"
     ]
    }
   ],
   "source": [
    "def fully_conn(x_tensor, num_outputs):\n",
    "\n",
    "    # TODO: Implement Function\n",
    "    shape = np.array(x_tensor.get_shape().as_list()[1:]).prod()\n",
    "    \n",
    "    weights = tf.Variable(tf.truncated_normal([shape, num_outputs],mean=0, stddev=0.1))\n",
    "    bias = tf.Variable(tf.zeros([num_outputs]))\n",
    "    \n",
    "    # Fully convolution layer.\n",
    "    \n",
    "    return tf.nn.relu(tf.nn.bias_add(tf.matmul(x_tensor, weights), bias)) \n",
    "    #return tf.contrib.layers.fully_connected(x_tensor, num_outputs, tf.nn.relu)\n",
    "\n",
    "\n",
    "\"\"\"\n",
    "DON'T MODIFY ANYTHING IN THIS CELL THAT IS BELOW THIS LINE\n",
    "\"\"\"\n",
    "tests.test_fully_conn(fully_conn)"
   ]
  },
  {
   "cell_type": "markdown",
   "metadata": {
    "colab_type": "text",
    "id": "pADf3ogBVOSE"
   },
   "source": [
    "### Output Layer\n",
    "Implement the `output` function to apply a fully connected layer to `x_tensor` with the shape (*Batch Size*, *num_outputs*). Shortcut option: you can use classes from the [TensorFlow Layers](https://www.tensorflow.org/api_docs/python/tf/layers) or [TensorFlow Layers (contrib)](https://www.tensorflow.org/api_guides/python/contrib.layers) packages for this layer. For more of a challenge, only use other TensorFlow packages.\n",
    "\n",
    "**Note:** Activation, softmax, or cross entropy should **not** be applied to this."
   ]
  },
  {
   "cell_type": "code",
   "execution_count": 11,
   "metadata": {
    "colab": {
     "autoexec": {
      "startup": false,
      "wait_interval": 0
     },
     "base_uri": "https://localhost:8080/",
     "height": 34
    },
    "colab_type": "code",
    "executionInfo": {
     "elapsed": 900,
     "status": "ok",
     "timestamp": 1528622031645,
     "user": {
      "displayName": "ABHISHEK DUBEY",
      "photoUrl": "https://lh3.googleusercontent.com/a/default-user=s128",
      "userId": "115074753493421841240"
     },
     "user_tz": -330
    },
    "id": "ktYydoo1VOSI",
    "outputId": "7a64fa51-f121-43b4-b876-e2b0873d0fcb"
   },
   "outputs": [
    {
     "name": "stdout",
     "output_type": "stream",
     "text": [
      "Tests Passed\n"
     ]
    }
   ],
   "source": [
    "def output(x_tensor, num_outputs):\n",
    "    \"\"\"\n",
    "    Apply a output layer to x_tensor using weight and bias\n",
    "    : x_tensor: A 2-D tensor where the first dimension is batch size.\n",
    "    : num_outputs: The number of output that the new tensor should be.\n",
    "    : return: A 2-D tensor where the second dimension is num_outputs.\n",
    "    \"\"\"\n",
    "    shape = np.array(x_tensor.get_shape().as_list()[1:]).prod()\n",
    "    \n",
    "    weights = tf.Variable(tf.truncated_normal([shape, num_outputs],mean=0, stddev=0.1))\n",
    "    bias = tf.Variable(tf.zeros([num_outputs]))\n",
    "    \n",
    "    return tf.nn.bias_add(tf.matmul(x_tensor, weights), bias)\n",
    "    #tf.contrib.layers.fully_connected(x_tensor, num_outputs)\n",
    "\n",
    "\n",
    "\"\"\"\n",
    "DON'T MODIFY ANYTHING IN THIS CELL THAT IS BELOW THIS LINE\n",
    "\"\"\"\n",
    "tests.test_output(output)"
   ]
  },
  {
   "cell_type": "markdown",
   "metadata": {
    "colab_type": "text",
    "id": "Vor00riKVOSl"
   },
   "source": [
    "### Create Convolutional Model\n",
    "Implement the function `conv_net` to create a convolutional neural network model. The function takes in a batch of images, `x`, and outputs logits.  Use the layers you created above to create this model:\n",
    "\n",
    "* Apply 1, 2, or 3 Convolution and Max Pool layers\n",
    "* Apply a Flatten Layer\n",
    "* Apply 1, 2, or 3 Fully Connected Layers\n",
    "* Apply an Output Layer\n",
    "* Return the output\n",
    "* Apply [TensorFlow's Dropout](https://www.tensorflow.org/api_docs/python/tf/nn/dropout) to one or more layers in the model using `keep_prob`. "
   ]
  },
  {
   "cell_type": "code",
   "execution_count": 12,
   "metadata": {
    "colab": {
     "autoexec": {
      "startup": false,
      "wait_interval": 0
     },
     "base_uri": "https://localhost:8080/",
     "height": 34
    },
    "colab_type": "code",
    "executionInfo": {
     "elapsed": 1902,
     "status": "ok",
     "timestamp": 1528622766328,
     "user": {
      "displayName": "ABHISHEK DUBEY",
      "photoUrl": "https://lh3.googleusercontent.com/a/default-user=s128",
      "userId": "115074753493421841240"
     },
     "user_tz": -330
    },
    "id": "NX-eW0DvVOTL",
    "outputId": "3a042a02-766c-4cbf-a8ba-002a08ae5ab1"
   },
   "outputs": [
    {
     "name": "stdout",
     "output_type": "stream",
     "text": [
      "WARNING:tensorflow:From <ipython-input-12-8883713da052>:70: softmax_cross_entropy_with_logits (from tensorflow.python.ops.nn_ops) is deprecated and will be removed in a future version.\n",
      "Instructions for updating:\n",
      "\n",
      "Future major versions of TensorFlow will allow gradients to flow\n",
      "into the labels input on backprop by default.\n",
      "\n",
      "See @{tf.nn.softmax_cross_entropy_with_logits_v2}.\n",
      "\n",
      "Neural Network Built!\n"
     ]
    }
   ],
   "source": [
    "def conv_net(x, keep_prob):\n",
    "\n",
    "  # TODO: Apply 1, 2, or 3 Convolution and Max Pool layers\n",
    "  #    Play around with different number of outputs, kernel size and stride\n",
    "  # Function Definition from Above:\n",
    "  #    conv2d_maxpool(x_tensor, conv_num_outputs, conv_ksize, conv_strides, pool_ksize, pool_strides)\n",
    "  conv_num_outputs=64\n",
    "  conv_ksize=(3,3)\n",
    "  conv_strides=(1,1)\n",
    "  pool_ksize=(2,2)\n",
    "  pool_strides=(2,2)\n",
    "  x_tensor=conv2d_maxpool(x,32, conv_ksize, conv_strides, pool_ksize, pool_strides)\n",
    "  x_tensor=conv2d_maxpool(x_tensor,64, conv_ksize, conv_strides, pool_ksize, pool_strides)\n",
    "  x_tensor=conv2d_maxpool(x_tensor,128, conv_ksize, conv_strides, pool_ksize, pool_strides)\n",
    "  x_tensor=conv2d_maxpool(x_tensor,256, conv_ksize, conv_strides, pool_ksize, pool_strides)\n",
    "  # TODO: Apply a Flatten Layer\n",
    "  # Function Definition from Above:\n",
    "  #   flatten(x_tensor)\n",
    "  #x_tensor=tf.nn.dropout(x_tensor,keep_prob)\n",
    "  x_tensor = flatten(x_tensor)\n",
    "\n",
    "  # TODO: Apply 1, 2, or 3 Fully Connected Layers\n",
    "  #    Play around with different number of outputs\n",
    "  # Function Definition from Above:\n",
    "  #   fully_conn(x_tensor, num_outputs)\n",
    "  num_outputs=10\n",
    "  x_tensor=fully_conn(x_tensor, 1024)\n",
    "  x_tensor=tf.nn.dropout(x_tensor,keep_prob)\n",
    "  x_tensor=fully_conn(x_tensor, 512)\n",
    "  x_tensor=tf.nn.dropout(x_tensor,keep_prob)\n",
    "  x_tensor=fully_conn(x_tensor, 256)\n",
    "  x_tensor=tf.nn.dropout(x_tensor,keep_prob)\n",
    "  x_tensor=fully_conn(x_tensor, 128)\n",
    "  x_tensor=tf.nn.dropout(x_tensor,keep_prob)\n",
    "\n",
    "\n",
    "  # TODO: Apply an Output Layer\n",
    "  #    Set this to the number of classes\n",
    "  # Function Definition from Above:\n",
    "  #   output(x_tensor, num_outputs)\n",
    "  x_tensor=output(x_tensor, num_outputs)\n",
    "\n",
    "  # TODO: return output\n",
    "  return x_tensor\n",
    "\n",
    "\n",
    "\"\"\"\n",
    "DON'T MODIFY ANYTHING IN THIS CELL THAT IS BELOW THIS LINE\n",
    "\"\"\"\n",
    "\n",
    "##############################\n",
    "## Build the Neural Network ##\n",
    "##############################\n",
    "\n",
    "# Remove previous weights, bias, inputs, etc..\n",
    "tf.reset_default_graph()\n",
    "\n",
    "# Inputs\n",
    "x = neural_net_image_input((32, 32, 3))\n",
    "y = neural_net_label_input(10)\n",
    "keep_prob = neural_net_keep_prob_input()\n",
    "\n",
    "# Model\n",
    "logits = conv_net(x, keep_prob)\n",
    "\n",
    "# Name logits Tensor, so that is can be loaded from disk after training\n",
    "logits = tf.identity(logits, name='logits')\n",
    "\n",
    "# Loss and Optimizer\n",
    "cost = tf.reduce_mean(tf.nn.softmax_cross_entropy_with_logits(logits=logits, labels=y))\n",
    "optimizer = tf.train.AdamOptimizer().minimize(cost)\n",
    "\n",
    "# Accuracy\n",
    "correct_pred = tf.equal(tf.argmax(logits, 1), tf.argmax(y, 1))\n",
    "accuracy = tf.reduce_mean(tf.cast(correct_pred, tf.float32), name='accuracy')\n",
    "\n",
    "tests.test_conv_net(conv_net)"
   ]
  },
  {
   "cell_type": "markdown",
   "metadata": {
    "colab_type": "text",
    "id": "_XlTg570VOVC"
   },
   "source": [
    "## Train the Neural Network\n",
    "### Single Optimization\n",
    "Implement the function `train_neural_network` to do a single optimization.  The optimization should use `optimizer` to optimize in `session` with a `feed_dict` of the following:\n",
    "* `x` for image input\n",
    "* `y` for labels\n",
    "* `keep_prob` for keep probability for dropout\n",
    "\n",
    "This function will be called for each batch, so `tf.global_variables_initializer()` has already been called.\n",
    "\n",
    "Note: Nothing needs to be returned. This function is only optimizing the neural network."
   ]
  },
  {
   "cell_type": "code",
   "execution_count": 13,
   "metadata": {
    "colab": {
     "autoexec": {
      "startup": false,
      "wait_interval": 0
     },
     "base_uri": "https://localhost:8080/",
     "height": 34
    },
    "colab_type": "code",
    "executionInfo": {
     "elapsed": 910,
     "status": "ok",
     "timestamp": 1528622035021,
     "user": {
      "displayName": "ABHISHEK DUBEY",
      "photoUrl": "https://lh3.googleusercontent.com/a/default-user=s128",
      "userId": "115074753493421841240"
     },
     "user_tz": -330
    },
    "id": "MhY-OhJeVOWn",
    "outputId": "b3f28fac-d801-459a-a366-d59933809861"
   },
   "outputs": [
    {
     "name": "stdout",
     "output_type": "stream",
     "text": [
      "Tests Passed\n"
     ]
    }
   ],
   "source": [
    "def train_neural_network(session, optimizer, keep_probability, feature_batch, label_batch):\n",
    "    \"\"\"\n",
    "    Optimize the session on a batch of images and labels\n",
    "    : session: Current TensorFlow session\n",
    "    : optimizer: TensorFlow optimizer function\n",
    "    : keep_probability: keep probability\n",
    "    : feature_batch: Batch of Numpy image data\n",
    "    : label_batch: Batch of Numpy label data\n",
    "    \"\"\"\n",
    "    # TODO: Implement Function\n",
    "    session.run(optimizer, feed_dict={x: feature_batch,\n",
    "                                      y: label_batch,\n",
    "                                      keep_prob: keep_probability})\n",
    "    \n",
    "\n",
    "\n",
    "\"\"\"\n",
    "DON'T MODIFY ANYTHING IN THIS CELL THAT IS BELOW THIS LINE\n",
    "\"\"\"\n",
    "tests.test_train_nn(train_neural_network)"
   ]
  },
  {
   "cell_type": "markdown",
   "metadata": {
    "colab_type": "text",
    "id": "PzUMAM5xVOYG"
   },
   "source": [
    "### Show Stats\n",
    "Implement the function `print_stats` to print loss and validation accuracy.  Use the global variables `valid_features` and `valid_labels` to calculate validation accuracy.  Use a keep probability of `1.0` to calculate the loss and validation accuracy."
   ]
  },
  {
   "cell_type": "code",
   "execution_count": 14,
   "metadata": {
    "colab": {
     "autoexec": {
      "startup": false,
      "wait_interval": 0
     }
    },
    "colab_type": "code",
    "id": "LULb9GwEVOYQ"
   },
   "outputs": [],
   "source": [
    "def print_stats(session, feature_batch, label_batch, cost, accuracy):\n",
    "    \"\"\"\n",
    "    Print information about loss and validation accuracy\n",
    "    : session: Current TensorFlow session\n",
    "    : feature_batch: Batch of Numpy image data\n",
    "    : label_batch: Batch of Numpy label data\n",
    "    : cost: TensorFlow cost function\n",
    "    : accuracy: TensorFlow accuracy function\n",
    "    \"\"\"\n",
    "    # TODO: Implement Function\n",
    "    loss=session.run(cost, feed_dict={x: feature_batch,\n",
    "                                      y: label_batch,\n",
    "                                      keep_prob: 1})\n",
    "    acc=session.run(accuracy, feed_dict={x: valid_features,\n",
    "                                      y: valid_labels,\n",
    "                                      keep_prob: 1})\n",
    "    \n",
    "    \n",
    "    print('Cost: {:.4f}, accuracy: {:.4f}'.format(loss, acc))"
   ]
  },
  {
   "cell_type": "markdown",
   "metadata": {
    "colab_type": "text",
    "id": "oibbJYO4VOZS"
   },
   "source": [
    "### Hyperparameters\n",
    "Tune the following parameters:\n",
    "* Set `epochs` to the number of iterations until the network stops learning or start overfitting\n",
    "* Set `batch_size` to the highest number that your machine has memory for.  Most people set them to common sizes of memory:\n",
    " * 64\n",
    " * 128\n",
    " * 256\n",
    " * ...\n",
    "* Set `keep_probability` to the probability of keeping a node using dropout"
   ]
  },
  {
   "cell_type": "code",
   "execution_count": 15,
   "metadata": {
    "colab": {
     "autoexec": {
      "startup": false,
      "wait_interval": 0
     }
    },
    "colab_type": "code",
    "id": "MtbyiTp0VOZa"
   },
   "outputs": [],
   "source": [
    "# TODO: Tune Parameters\n",
    "epochs = 75\n",
    "batch_size = 256\n",
    "keep_probability = 0.75"
   ]
  },
  {
   "cell_type": "markdown",
   "metadata": {
    "colab_type": "text",
    "id": "8Rt2jYO0VOaa"
   },
   "source": [
    "### Train on a Single CIFAR-10 Batch\n",
    "Instead of training the neural network on all the CIFAR-10 batches of data, let's use a single batch. This should save time while you iterate on the model to get a better accuracy.  Once the final validation accuracy is 50% or greater, run the model on all the data in the next section."
   ]
  },
  {
   "cell_type": "code",
   "execution_count": 16,
   "metadata": {
    "colab": {
     "autoexec": {
      "startup": false,
      "wait_interval": 0
     },
     "base_uri": "https://localhost:8080/",
     "height": 1309
    },
    "colab_type": "code",
    "executionInfo": {
     "elapsed": 65115,
     "status": "ok",
     "timestamp": 1528622102654,
     "user": {
      "displayName": "ABHISHEK DUBEY",
      "photoUrl": "https://lh3.googleusercontent.com/a/default-user=s128",
      "userId": "115074753493421841240"
     },
     "user_tz": -330
    },
    "id": "OqEcQCj4VOaf",
    "outputId": "2f21e9a0-27e7-487f-9fa7-5df316492d16"
   },
   "outputs": [
    {
     "name": "stdout",
     "output_type": "stream",
     "text": [
      "Checking the Training on a Single Batch...\n",
      "Epoch  1, CIFAR-10 Batch 1:  Cost: 2.1229, accuracy: 0.2314\n",
      "Epoch  2, CIFAR-10 Batch 1:  Cost: 1.9428, accuracy: 0.3062\n",
      "Epoch  3, CIFAR-10 Batch 1:  Cost: 1.7248, accuracy: 0.3742\n",
      "Epoch  4, CIFAR-10 Batch 1:  Cost: 1.6253, accuracy: 0.3794\n",
      "Epoch  5, CIFAR-10 Batch 1:  Cost: 1.2184, accuracy: 0.4392\n",
      "Epoch  6, CIFAR-10 Batch 1:  Cost: 0.9963, accuracy: 0.4764\n",
      "Epoch  7, CIFAR-10 Batch 1:  Cost: 0.8702, accuracy: 0.4728\n",
      "Epoch  8, CIFAR-10 Batch 1:  Cost: 0.6748, accuracy: 0.4986\n",
      "Epoch  9, CIFAR-10 Batch 1:  Cost: 0.5809, accuracy: 0.5024\n",
      "Epoch 10, CIFAR-10 Batch 1:  Cost: 0.4781, accuracy: 0.5360\n",
      "Epoch 11, CIFAR-10 Batch 1:  Cost: 0.3870, accuracy: 0.5516\n",
      "Epoch 12, CIFAR-10 Batch 1:  Cost: 0.2857, accuracy: 0.5194\n",
      "Epoch 13, CIFAR-10 Batch 1:  Cost: 0.2069, accuracy: 0.5286\n",
      "Epoch 14, CIFAR-10 Batch 1:  Cost: 0.2167, accuracy: 0.5092\n",
      "Epoch 15, CIFAR-10 Batch 1:  Cost: 0.1675, accuracy: 0.5428\n",
      "Epoch 16, CIFAR-10 Batch 1:  Cost: 0.1396, accuracy: 0.5258\n",
      "Epoch 17, CIFAR-10 Batch 1:  Cost: 0.1084, accuracy: 0.5500\n",
      "Epoch 18, CIFAR-10 Batch 1:  Cost: 0.0642, accuracy: 0.5258\n",
      "Epoch 19, CIFAR-10 Batch 1:  Cost: 0.0477, accuracy: 0.5308\n",
      "Epoch 20, CIFAR-10 Batch 1:  Cost: 0.0676, accuracy: 0.4788\n",
      "Epoch 21, CIFAR-10 Batch 1:  Cost: 0.0750, accuracy: 0.5116\n",
      "Epoch 22, CIFAR-10 Batch 1:  Cost: 0.0402, accuracy: 0.5210\n",
      "Epoch 23, CIFAR-10 Batch 1:  Cost: 0.0239, accuracy: 0.5236\n",
      "Epoch 24, CIFAR-10 Batch 1:  Cost: 0.0238, accuracy: 0.5490\n",
      "Epoch 25, CIFAR-10 Batch 1:  Cost: 0.0189, accuracy: 0.5468\n",
      "Epoch 26, CIFAR-10 Batch 1:  Cost: 0.0218, accuracy: 0.5564\n",
      "Epoch 27, CIFAR-10 Batch 1:  Cost: 0.0146, accuracy: 0.5458\n",
      "Epoch 28, CIFAR-10 Batch 1:  Cost: 0.0083, accuracy: 0.5530\n",
      "Epoch 29, CIFAR-10 Batch 1:  Cost: 0.0092, accuracy: 0.5664\n",
      "Epoch 30, CIFAR-10 Batch 1:  Cost: 0.0032, accuracy: 0.5450\n",
      "Epoch 31, CIFAR-10 Batch 1:  Cost: 0.0023, accuracy: 0.5066\n",
      "Epoch 32, CIFAR-10 Batch 1:  Cost: 0.0213, accuracy: 0.5520\n",
      "Epoch 33, CIFAR-10 Batch 1:  Cost: 0.0024, accuracy: 0.5604\n",
      "Epoch 34, CIFAR-10 Batch 1:  Cost: 0.0004, accuracy: 0.5460\n",
      "Epoch 35, CIFAR-10 Batch 1:  Cost: 0.0031, accuracy: 0.5386\n",
      "Epoch 36, CIFAR-10 Batch 1:  Cost: 0.0017, accuracy: 0.5376\n",
      "Epoch 37, CIFAR-10 Batch 1:  Cost: 0.0149, accuracy: 0.5222\n",
      "Epoch 38, CIFAR-10 Batch 1:  Cost: 0.0003, accuracy: 0.5454\n",
      "Epoch 39, CIFAR-10 Batch 1:  Cost: 0.0008, accuracy: 0.5616\n",
      "Epoch 40, CIFAR-10 Batch 1:  Cost: 0.0007, accuracy: 0.5548\n",
      "Epoch 41, CIFAR-10 Batch 1:  Cost: 0.0003, accuracy: 0.5386\n",
      "Epoch 42, CIFAR-10 Batch 1:  Cost: 0.0013, accuracy: 0.5640\n",
      "Epoch 43, CIFAR-10 Batch 1:  Cost: 0.0002, accuracy: 0.5460\n",
      "Epoch 44, CIFAR-10 Batch 1:  Cost: 0.0002, accuracy: 0.5686\n",
      "Epoch 45, CIFAR-10 Batch 1:  Cost: 0.0008, accuracy: 0.5438\n",
      "Epoch 46, CIFAR-10 Batch 1:  Cost: 0.0006, accuracy: 0.5478\n",
      "Epoch 47, CIFAR-10 Batch 1:  Cost: 0.0003, accuracy: 0.5642\n",
      "Epoch 48, CIFAR-10 Batch 1:  Cost: 0.0001, accuracy: 0.5588\n",
      "Epoch 49, CIFAR-10 Batch 1:  Cost: 0.0003, accuracy: 0.5466\n",
      "Epoch 50, CIFAR-10 Batch 1:  Cost: 0.0002, accuracy: 0.5750\n",
      "Epoch 51, CIFAR-10 Batch 1:  Cost: 0.0448, accuracy: 0.5620\n",
      "Epoch 52, CIFAR-10 Batch 1:  Cost: 0.0005, accuracy: 0.5494\n",
      "Epoch 53, CIFAR-10 Batch 1:  Cost: 0.0006, accuracy: 0.5564\n",
      "Epoch 54, CIFAR-10 Batch 1:  Cost: 0.0004, accuracy: 0.5644\n",
      "Epoch 55, CIFAR-10 Batch 1:  Cost: 0.0001, accuracy: 0.5736\n",
      "Epoch 56, CIFAR-10 Batch 1:  Cost: 0.0001, accuracy: 0.5666\n",
      "Epoch 57, CIFAR-10 Batch 1:  Cost: 0.0000, accuracy: 0.5686\n",
      "Epoch 58, CIFAR-10 Batch 1:  Cost: 0.0003, accuracy: 0.5622\n",
      "Epoch 59, CIFAR-10 Batch 1:  Cost: 0.0002, accuracy: 0.5810\n",
      "Epoch 60, CIFAR-10 Batch 1:  Cost: 0.0001, accuracy: 0.5776\n",
      "Epoch 61, CIFAR-10 Batch 1:  Cost: 0.0000, accuracy: 0.5654\n",
      "Epoch 62, CIFAR-10 Batch 1:  Cost: 0.0035, accuracy: 0.5722\n",
      "Epoch 63, CIFAR-10 Batch 1:  Cost: 0.0001, accuracy: 0.5756\n",
      "Epoch 64, CIFAR-10 Batch 1:  Cost: 0.0000, accuracy: 0.5702\n",
      "Epoch 65, CIFAR-10 Batch 1:  Cost: 0.0006, accuracy: 0.5728\n",
      "Epoch 66, CIFAR-10 Batch 1:  Cost: 0.0001, accuracy: 0.5770\n",
      "Epoch 67, CIFAR-10 Batch 1:  Cost: 0.0001, accuracy: 0.5812\n",
      "Epoch 68, CIFAR-10 Batch 1:  Cost: 0.0011, accuracy: 0.5744\n",
      "Epoch 69, CIFAR-10 Batch 1:  Cost: 0.0000, accuracy: 0.5792\n",
      "Epoch 70, CIFAR-10 Batch 1:  Cost: 0.0000, accuracy: 0.5822\n",
      "Epoch 71, CIFAR-10 Batch 1:  Cost: 0.0016, accuracy: 0.5692\n",
      "Epoch 72, CIFAR-10 Batch 1:  Cost: 0.0000, accuracy: 0.5742\n",
      "Epoch 73, CIFAR-10 Batch 1:  Cost: 0.0003, accuracy: 0.5842\n",
      "Epoch 74, CIFAR-10 Batch 1:  Cost: 0.0001, accuracy: 0.5808\n",
      "Epoch 75, CIFAR-10 Batch 1:  Cost: 0.0002, accuracy: 0.5784\n"
     ]
    }
   ],
   "source": [
    "\"\"\"\n",
    "DON'T MODIFY ANYTHING IN THIS CELL\n",
    "\"\"\"\n",
    "print('Checking the Training on a Single Batch...')\n",
    "with tf.Session() as sess:\n",
    "    # Initializing the variables\n",
    "    sess.run(tf.global_variables_initializer())\n",
    "    \n",
    "    # Training cycle\n",
    "    for epoch in range(epochs):\n",
    "        batch_i = 1\n",
    "        for batch_features, batch_labels in helper.load_preprocess_training_batch(batch_i, batch_size):\n",
    "            train_neural_network(sess, optimizer, keep_probability, batch_features, batch_labels)\n",
    "        print('Epoch {:>2}, CIFAR-10 Batch {}:  '.format(epoch + 1, batch_i), end='')\n",
    "        print_stats(sess, batch_features, batch_labels, cost, accuracy)"
   ]
  },
  {
   "cell_type": "markdown",
   "metadata": {
    "colab_type": "text",
    "id": "eVOeIJ-RVObw"
   },
   "source": [
    "### Fully Train the Model\n",
    "Now that you got a good accuracy with a single CIFAR-10 batch, try it with all five batches."
   ]
  },
  {
   "cell_type": "code",
   "execution_count": 17,
   "metadata": {
    "colab": {
     "autoexec": {
      "startup": false,
      "wait_interval": 0
     },
     "base_uri": "https://localhost:8080/",
     "height": 6409
    },
    "colab_type": "code",
    "executionInfo": {
     "elapsed": 428486,
     "status": "ok",
     "timestamp": 1528624202612,
     "user": {
      "displayName": "ABHISHEK DUBEY",
      "photoUrl": "https://lh3.googleusercontent.com/a/default-user=s128",
      "userId": "115074753493421841240"
     },
     "user_tz": -330
    },
    "id": "PU7C4o4WVObz",
    "outputId": "9bbcb546-41f2-4fd6-cff3-a10788022643"
   },
   "outputs": [
    {
     "name": "stdout",
     "output_type": "stream",
     "text": [
      "Training...\n",
      "Epoch  1, CIFAR-10 Batch 1:  Cost: 2.2334, accuracy: 0.2128\n",
      "Epoch  1, CIFAR-10 Batch 2:  Cost: 2.0022, accuracy: 0.3020\n",
      "Epoch  1, CIFAR-10 Batch 3:  Cost: 1.7210, accuracy: 0.3518\n",
      "Epoch  1, CIFAR-10 Batch 4:  Cost: 1.6453, accuracy: 0.4076\n",
      "Epoch  1, CIFAR-10 Batch 5:  Cost: 1.5792, accuracy: 0.4210\n",
      "Epoch  2, CIFAR-10 Batch 1:  Cost: 1.6177, accuracy: 0.4574\n",
      "Epoch  2, CIFAR-10 Batch 2:  Cost: 1.3026, accuracy: 0.4664\n",
      "Epoch  2, CIFAR-10 Batch 3:  Cost: 1.1262, accuracy: 0.5076\n",
      "Epoch  2, CIFAR-10 Batch 4:  Cost: 1.2820, accuracy: 0.5208\n",
      "Epoch  2, CIFAR-10 Batch 5:  Cost: 1.2221, accuracy: 0.5318\n",
      "Epoch  3, CIFAR-10 Batch 1:  Cost: 1.2183, accuracy: 0.5446\n",
      "Epoch  3, CIFAR-10 Batch 2:  Cost: 0.9502, accuracy: 0.5050\n",
      "Epoch  3, CIFAR-10 Batch 3:  Cost: 0.8206, accuracy: 0.5188\n",
      "Epoch  3, CIFAR-10 Batch 4:  Cost: 0.8890, accuracy: 0.5576\n",
      "Epoch  3, CIFAR-10 Batch 5:  Cost: 0.9838, accuracy: 0.5248\n",
      "Epoch  4, CIFAR-10 Batch 1:  Cost: 0.9229, accuracy: 0.5816\n",
      "Epoch  4, CIFAR-10 Batch 2:  Cost: 0.7113, accuracy: 0.5644\n",
      "Epoch  4, CIFAR-10 Batch 3:  Cost: 0.5572, accuracy: 0.5926\n",
      "Epoch  4, CIFAR-10 Batch 4:  Cost: 0.6385, accuracy: 0.6032\n",
      "Epoch  4, CIFAR-10 Batch 5:  Cost: 0.6238, accuracy: 0.5890\n",
      "Epoch  5, CIFAR-10 Batch 1:  Cost: 0.7070, accuracy: 0.6172\n",
      "Epoch  5, CIFAR-10 Batch 2:  Cost: 0.5191, accuracy: 0.6018\n",
      "Epoch  5, CIFAR-10 Batch 3:  Cost: 0.4444, accuracy: 0.6120\n",
      "Epoch  5, CIFAR-10 Batch 4:  Cost: 0.4955, accuracy: 0.6354\n",
      "Epoch  5, CIFAR-10 Batch 5:  Cost: 0.4353, accuracy: 0.6380\n",
      "Epoch  6, CIFAR-10 Batch 1:  Cost: 0.5556, accuracy: 0.6242\n",
      "Epoch  6, CIFAR-10 Batch 2:  Cost: 0.3171, accuracy: 0.6416\n",
      "Epoch  6, CIFAR-10 Batch 3:  Cost: 0.3173, accuracy: 0.6254\n",
      "Epoch  6, CIFAR-10 Batch 4:  Cost: 0.4206, accuracy: 0.6406\n",
      "Epoch  6, CIFAR-10 Batch 5:  Cost: 0.3020, accuracy: 0.6610\n",
      "Epoch  7, CIFAR-10 Batch 1:  Cost: 0.4916, accuracy: 0.6092\n",
      "Epoch  7, CIFAR-10 Batch 2:  Cost: 0.2334, accuracy: 0.6390\n",
      "Epoch  7, CIFAR-10 Batch 3:  Cost: 0.2086, accuracy: 0.6556\n",
      "Epoch  7, CIFAR-10 Batch 4:  Cost: 0.3295, accuracy: 0.6486\n",
      "Epoch  7, CIFAR-10 Batch 5:  Cost: 0.2310, accuracy: 0.6602\n",
      "Epoch  8, CIFAR-10 Batch 1:  Cost: 0.3007, accuracy: 0.6438\n",
      "Epoch  8, CIFAR-10 Batch 2:  Cost: 0.2212, accuracy: 0.6644\n",
      "Epoch  8, CIFAR-10 Batch 3:  Cost: 0.1533, accuracy: 0.6672\n",
      "Epoch  8, CIFAR-10 Batch 4:  Cost: 0.1991, accuracy: 0.6532\n",
      "Epoch  8, CIFAR-10 Batch 5:  Cost: 0.1632, accuracy: 0.6358\n",
      "Epoch  9, CIFAR-10 Batch 1:  Cost: 0.2441, accuracy: 0.6476\n",
      "Epoch  9, CIFAR-10 Batch 2:  Cost: 0.1850, accuracy: 0.6680\n",
      "Epoch  9, CIFAR-10 Batch 3:  Cost: 0.1229, accuracy: 0.6486\n",
      "Epoch  9, CIFAR-10 Batch 4:  Cost: 0.1235, accuracy: 0.6778\n",
      "Epoch  9, CIFAR-10 Batch 5:  Cost: 0.1114, accuracy: 0.6746\n",
      "Epoch 10, CIFAR-10 Batch 1:  Cost: 0.1968, accuracy: 0.6686\n",
      "Epoch 10, CIFAR-10 Batch 2:  Cost: 0.1475, accuracy: 0.6614\n",
      "Epoch 10, CIFAR-10 Batch 3:  Cost: 0.1188, accuracy: 0.6450\n",
      "Epoch 10, CIFAR-10 Batch 4:  Cost: 0.1191, accuracy: 0.6618\n",
      "Epoch 10, CIFAR-10 Batch 5:  Cost: 0.1125, accuracy: 0.6892\n",
      "Epoch 11, CIFAR-10 Batch 1:  Cost: 0.1169, accuracy: 0.6208\n",
      "Epoch 11, CIFAR-10 Batch 2:  Cost: 0.1224, accuracy: 0.6690\n",
      "Epoch 11, CIFAR-10 Batch 3:  Cost: 0.0953, accuracy: 0.6592\n",
      "Epoch 11, CIFAR-10 Batch 4:  Cost: 0.0951, accuracy: 0.6640\n",
      "Epoch 11, CIFAR-10 Batch 5:  Cost: 0.0900, accuracy: 0.6752\n",
      "Epoch 12, CIFAR-10 Batch 1:  Cost: 0.0674, accuracy: 0.6298\n",
      "Epoch 12, CIFAR-10 Batch 2:  Cost: 0.0595, accuracy: 0.6692\n",
      "Epoch 12, CIFAR-10 Batch 3:  Cost: 0.0516, accuracy: 0.6618\n",
      "Epoch 12, CIFAR-10 Batch 4:  Cost: 0.0518, accuracy: 0.6666\n",
      "Epoch 12, CIFAR-10 Batch 5:  Cost: 0.0537, accuracy: 0.6652\n",
      "Epoch 13, CIFAR-10 Batch 1:  Cost: 0.0788, accuracy: 0.6478\n",
      "Epoch 13, CIFAR-10 Batch 2:  Cost: 0.0398, accuracy: 0.6632\n",
      "Epoch 13, CIFAR-10 Batch 3:  Cost: 0.0316, accuracy: 0.6646\n",
      "Epoch 13, CIFAR-10 Batch 4:  Cost: 0.0251, accuracy: 0.6828\n",
      "Epoch 13, CIFAR-10 Batch 5:  Cost: 0.0327, accuracy: 0.6750\n",
      "Epoch 14, CIFAR-10 Batch 1:  Cost: 0.0403, accuracy: 0.6772\n",
      "Epoch 14, CIFAR-10 Batch 2:  Cost: 0.0394, accuracy: 0.6552\n",
      "Epoch 14, CIFAR-10 Batch 3:  Cost: 0.0107, accuracy: 0.6680\n",
      "Epoch 14, CIFAR-10 Batch 4:  Cost: 0.0259, accuracy: 0.6796\n",
      "Epoch 14, CIFAR-10 Batch 5:  Cost: 0.0361, accuracy: 0.6568\n",
      "Epoch 15, CIFAR-10 Batch 1:  Cost: 0.0240, accuracy: 0.6700\n",
      "Epoch 15, CIFAR-10 Batch 2:  Cost: 0.0290, accuracy: 0.6508\n",
      "Epoch 15, CIFAR-10 Batch 3:  Cost: 0.0094, accuracy: 0.6596\n",
      "Epoch 15, CIFAR-10 Batch 4:  Cost: 0.0371, accuracy: 0.6696\n",
      "Epoch 15, CIFAR-10 Batch 5:  Cost: 0.0195, accuracy: 0.6920\n",
      "Epoch 16, CIFAR-10 Batch 1:  Cost: 0.0131, accuracy: 0.6760\n",
      "Epoch 16, CIFAR-10 Batch 2:  Cost: 0.0154, accuracy: 0.6362\n",
      "Epoch 16, CIFAR-10 Batch 3:  Cost: 0.0169, accuracy: 0.6580\n",
      "Epoch 16, CIFAR-10 Batch 4:  Cost: 0.0207, accuracy: 0.6740\n",
      "Epoch 16, CIFAR-10 Batch 5:  Cost: 0.0165, accuracy: 0.6688\n",
      "Epoch 17, CIFAR-10 Batch 1:  Cost: 0.0166, accuracy: 0.6688\n",
      "Epoch 17, CIFAR-10 Batch 2:  Cost: 0.0309, accuracy: 0.6200\n",
      "Epoch 17, CIFAR-10 Batch 3:  Cost: 0.0107, accuracy: 0.6822\n",
      "Epoch 17, CIFAR-10 Batch 4:  Cost: 0.0200, accuracy: 0.6858\n",
      "Epoch 17, CIFAR-10 Batch 5:  Cost: 0.0058, accuracy: 0.6744\n",
      "Epoch 18, CIFAR-10 Batch 1:  Cost: 0.0085, accuracy: 0.6762\n",
      "Epoch 18, CIFAR-10 Batch 2:  Cost: 0.0149, accuracy: 0.6450\n",
      "Epoch 18, CIFAR-10 Batch 3:  Cost: 0.0134, accuracy: 0.6818\n",
      "Epoch 18, CIFAR-10 Batch 4:  Cost: 0.0110, accuracy: 0.6896\n",
      "Epoch 18, CIFAR-10 Batch 5:  Cost: 0.0136, accuracy: 0.6600\n",
      "Epoch 19, CIFAR-10 Batch 1:  Cost: 0.0261, accuracy: 0.6682\n",
      "Epoch 19, CIFAR-10 Batch 2:  Cost: 0.0121, accuracy: 0.6768\n",
      "Epoch 19, CIFAR-10 Batch 3:  Cost: 0.0069, accuracy: 0.6756\n",
      "Epoch 19, CIFAR-10 Batch 4:  Cost: 0.0052, accuracy: 0.6756\n",
      "Epoch 19, CIFAR-10 Batch 5:  Cost: 0.0044, accuracy: 0.6702\n",
      "Epoch 20, CIFAR-10 Batch 1:  Cost: 0.0059, accuracy: 0.6796\n",
      "Epoch 20, CIFAR-10 Batch 2:  Cost: 0.0062, accuracy: 0.6640\n",
      "Epoch 20, CIFAR-10 Batch 3:  Cost: 0.0039, accuracy: 0.6892\n",
      "Epoch 20, CIFAR-10 Batch 4:  Cost: 0.0083, accuracy: 0.6834\n",
      "Epoch 20, CIFAR-10 Batch 5:  Cost: 0.0033, accuracy: 0.6730\n",
      "Epoch 21, CIFAR-10 Batch 1:  Cost: 0.0106, accuracy: 0.6684\n",
      "Epoch 21, CIFAR-10 Batch 2:  Cost: 0.0096, accuracy: 0.6870\n",
      "Epoch 21, CIFAR-10 Batch 3:  Cost: 0.0075, accuracy: 0.6818\n",
      "Epoch 21, CIFAR-10 Batch 4:  Cost: 0.0009, accuracy: 0.6832\n",
      "Epoch 21, CIFAR-10 Batch 5:  Cost: 0.0043, accuracy: 0.6844\n",
      "Epoch 22, CIFAR-10 Batch 1:  Cost: 0.0080, accuracy: 0.6584\n",
      "Epoch 22, CIFAR-10 Batch 2:  Cost: 0.0078, accuracy: 0.6766\n",
      "Epoch 22, CIFAR-10 Batch 3:  Cost: 0.0013, accuracy: 0.6904\n",
      "Epoch 22, CIFAR-10 Batch 4:  Cost: 0.0036, accuracy: 0.6828\n",
      "Epoch 22, CIFAR-10 Batch 5:  Cost: 0.0068, accuracy: 0.6718\n",
      "Epoch 23, CIFAR-10 Batch 1:  Cost: 0.0065, accuracy: 0.6760\n",
      "Epoch 23, CIFAR-10 Batch 2:  Cost: 0.0039, accuracy: 0.6656\n",
      "Epoch 23, CIFAR-10 Batch 3:  Cost: 0.0007, accuracy: 0.6824\n",
      "Epoch 23, CIFAR-10 Batch 4:  Cost: 0.0063, accuracy: 0.6700\n",
      "Epoch 23, CIFAR-10 Batch 5:  Cost: 0.0061, accuracy: 0.6786\n",
      "Epoch 24, CIFAR-10 Batch 1:  Cost: 0.0046, accuracy: 0.6762\n",
      "Epoch 24, CIFAR-10 Batch 2:  Cost: 0.0058, accuracy: 0.6690\n",
      "Epoch 24, CIFAR-10 Batch 3:  Cost: 0.0031, accuracy: 0.6778\n",
      "Epoch 24, CIFAR-10 Batch 4:  Cost: 0.0086, accuracy: 0.6844\n",
      "Epoch 24, CIFAR-10 Batch 5:  Cost: 0.0042, accuracy: 0.6730\n",
      "Epoch 25, CIFAR-10 Batch 1:  Cost: 0.0017, accuracy: 0.6682\n",
      "Epoch 25, CIFAR-10 Batch 2:  Cost: 0.0019, accuracy: 0.6534\n",
      "Epoch 25, CIFAR-10 Batch 3:  Cost: 0.0015, accuracy: 0.6556\n",
      "Epoch 25, CIFAR-10 Batch 4:  Cost: 0.0043, accuracy: 0.6816\n",
      "Epoch 25, CIFAR-10 Batch 5:  Cost: 0.0063, accuracy: 0.6814\n",
      "Epoch 26, CIFAR-10 Batch 1:  Cost: 0.0068, accuracy: 0.6606\n",
      "Epoch 26, CIFAR-10 Batch 2:  Cost: 0.0039, accuracy: 0.6668\n",
      "Epoch 26, CIFAR-10 Batch 3:  Cost: 0.0022, accuracy: 0.6756\n",
      "Epoch 26, CIFAR-10 Batch 4:  Cost: 0.0109, accuracy: 0.6674\n",
      "Epoch 26, CIFAR-10 Batch 5:  Cost: 0.0018, accuracy: 0.6750\n",
      "Epoch 27, CIFAR-10 Batch 1:  Cost: 0.0049, accuracy: 0.6606\n",
      "Epoch 27, CIFAR-10 Batch 2:  Cost: 0.0099, accuracy: 0.6720\n",
      "Epoch 27, CIFAR-10 Batch 3:  Cost: 0.0004, accuracy: 0.6880\n",
      "Epoch 27, CIFAR-10 Batch 4:  Cost: 0.0018, accuracy: 0.6822\n",
      "Epoch 27, CIFAR-10 Batch 5:  Cost: 0.0069, accuracy: 0.6668\n",
      "Epoch 28, CIFAR-10 Batch 1:  Cost: 0.0005, accuracy: 0.6748\n"
     ]
    },
    {
     "name": "stdout",
     "output_type": "stream",
     "text": [
      "Epoch 28, CIFAR-10 Batch 2:  Cost: 0.0003, accuracy: 0.6666\n",
      "Epoch 28, CIFAR-10 Batch 3:  Cost: 0.0001, accuracy: 0.6834\n",
      "Epoch 28, CIFAR-10 Batch 4:  Cost: 0.0004, accuracy: 0.6712\n",
      "Epoch 28, CIFAR-10 Batch 5:  Cost: 0.0197, accuracy: 0.6816\n",
      "Epoch 29, CIFAR-10 Batch 1:  Cost: 0.0166, accuracy: 0.6774\n",
      "Epoch 29, CIFAR-10 Batch 2:  Cost: 0.0050, accuracy: 0.6756\n",
      "Epoch 29, CIFAR-10 Batch 3:  Cost: 0.0004, accuracy: 0.6742\n",
      "Epoch 29, CIFAR-10 Batch 4:  Cost: 0.0004, accuracy: 0.6862\n",
      "Epoch 29, CIFAR-10 Batch 5:  Cost: 0.0004, accuracy: 0.6954\n",
      "Epoch 30, CIFAR-10 Batch 1:  Cost: 0.0002, accuracy: 0.6902\n",
      "Epoch 30, CIFAR-10 Batch 2:  Cost: 0.0008, accuracy: 0.6740\n",
      "Epoch 30, CIFAR-10 Batch 3:  Cost: 0.0004, accuracy: 0.6848\n",
      "Epoch 30, CIFAR-10 Batch 4:  Cost: 0.0011, accuracy: 0.6902\n",
      "Epoch 30, CIFAR-10 Batch 5:  Cost: 0.0012, accuracy: 0.6794\n",
      "Epoch 31, CIFAR-10 Batch 1:  Cost: 0.0001, accuracy: 0.6746\n",
      "Epoch 31, CIFAR-10 Batch 2:  Cost: 0.0058, accuracy: 0.6816\n",
      "Epoch 31, CIFAR-10 Batch 3:  Cost: 0.0002, accuracy: 0.6672\n",
      "Epoch 31, CIFAR-10 Batch 4:  Cost: 0.0020, accuracy: 0.6894\n",
      "Epoch 31, CIFAR-10 Batch 5:  Cost: 0.0017, accuracy: 0.6864\n",
      "Epoch 32, CIFAR-10 Batch 1:  Cost: 0.0001, accuracy: 0.6834\n",
      "Epoch 32, CIFAR-10 Batch 2:  Cost: 0.0001, accuracy: 0.6856\n",
      "Epoch 32, CIFAR-10 Batch 3:  Cost: 0.0004, accuracy: 0.6832\n",
      "Epoch 32, CIFAR-10 Batch 4:  Cost: 0.0008, accuracy: 0.6726\n",
      "Epoch 32, CIFAR-10 Batch 5:  Cost: 0.0006, accuracy: 0.6926\n",
      "Epoch 33, CIFAR-10 Batch 1:  Cost: 0.0008, accuracy: 0.6912\n",
      "Epoch 33, CIFAR-10 Batch 2:  Cost: 0.0006, accuracy: 0.6654\n",
      "Epoch 33, CIFAR-10 Batch 3:  Cost: 0.0022, accuracy: 0.6866\n",
      "Epoch 33, CIFAR-10 Batch 4:  Cost: 0.0011, accuracy: 0.6860\n",
      "Epoch 33, CIFAR-10 Batch 5:  Cost: 0.0004, accuracy: 0.6938\n",
      "Epoch 34, CIFAR-10 Batch 1:  Cost: 0.0003, accuracy: 0.6930\n",
      "Epoch 34, CIFAR-10 Batch 2:  Cost: 0.0006, accuracy: 0.7018\n",
      "Epoch 34, CIFAR-10 Batch 3:  Cost: 0.0035, accuracy: 0.6802\n",
      "Epoch 34, CIFAR-10 Batch 4:  Cost: 0.0023, accuracy: 0.6822\n",
      "Epoch 34, CIFAR-10 Batch 5:  Cost: 0.0007, accuracy: 0.6856\n",
      "Epoch 35, CIFAR-10 Batch 1:  Cost: 0.0005, accuracy: 0.6912\n",
      "Epoch 35, CIFAR-10 Batch 2:  Cost: 0.0004, accuracy: 0.6864\n",
      "Epoch 35, CIFAR-10 Batch 3:  Cost: 0.0004, accuracy: 0.6830\n",
      "Epoch 35, CIFAR-10 Batch 4:  Cost: 0.0036, accuracy: 0.6838\n",
      "Epoch 35, CIFAR-10 Batch 5:  Cost: 0.0013, accuracy: 0.6874\n",
      "Epoch 36, CIFAR-10 Batch 1:  Cost: 0.0001, accuracy: 0.6706\n",
      "Epoch 36, CIFAR-10 Batch 2:  Cost: 0.0002, accuracy: 0.6980\n",
      "Epoch 36, CIFAR-10 Batch 3:  Cost: 0.0060, accuracy: 0.6780\n",
      "Epoch 36, CIFAR-10 Batch 4:  Cost: 0.0007, accuracy: 0.6734\n",
      "Epoch 36, CIFAR-10 Batch 5:  Cost: 0.0001, accuracy: 0.6922\n",
      "Epoch 37, CIFAR-10 Batch 1:  Cost: 0.0004, accuracy: 0.6726\n",
      "Epoch 37, CIFAR-10 Batch 2:  Cost: 0.0000, accuracy: 0.6966\n",
      "Epoch 37, CIFAR-10 Batch 3:  Cost: 0.0003, accuracy: 0.6914\n",
      "Epoch 37, CIFAR-10 Batch 4:  Cost: 0.0005, accuracy: 0.6936\n",
      "Epoch 37, CIFAR-10 Batch 5:  Cost: 0.0000, accuracy: 0.6892\n",
      "Epoch 38, CIFAR-10 Batch 1:  Cost: 0.0001, accuracy: 0.6842\n",
      "Epoch 38, CIFAR-10 Batch 2:  Cost: 0.0000, accuracy: 0.6912\n",
      "Epoch 38, CIFAR-10 Batch 3:  Cost: 0.0022, accuracy: 0.6848\n",
      "Epoch 38, CIFAR-10 Batch 4:  Cost: 0.0001, accuracy: 0.6940\n",
      "Epoch 38, CIFAR-10 Batch 5:  Cost: 0.0008, accuracy: 0.6934\n",
      "Epoch 39, CIFAR-10 Batch 1:  Cost: 0.0002, accuracy: 0.6806\n",
      "Epoch 39, CIFAR-10 Batch 2:  Cost: 0.0002, accuracy: 0.6862\n",
      "Epoch 39, CIFAR-10 Batch 3:  Cost: 0.0000, accuracy: 0.6848\n",
      "Epoch 39, CIFAR-10 Batch 4:  Cost: 0.0005, accuracy: 0.6866\n",
      "Epoch 39, CIFAR-10 Batch 5:  Cost: 0.0004, accuracy: 0.6844\n",
      "Epoch 40, CIFAR-10 Batch 1:  Cost: 0.0003, accuracy: 0.6830\n",
      "Epoch 40, CIFAR-10 Batch 2:  Cost: 0.0001, accuracy: 0.6958\n",
      "Epoch 40, CIFAR-10 Batch 3:  Cost: 0.0003, accuracy: 0.6806\n",
      "Epoch 40, CIFAR-10 Batch 4:  Cost: 0.0002, accuracy: 0.6880\n",
      "Epoch 40, CIFAR-10 Batch 5:  Cost: 0.0004, accuracy: 0.6928\n",
      "Epoch 41, CIFAR-10 Batch 1:  Cost: 0.0010, accuracy: 0.6696\n",
      "Epoch 41, CIFAR-10 Batch 2:  Cost: 0.0002, accuracy: 0.6846\n",
      "Epoch 41, CIFAR-10 Batch 3:  Cost: 0.0025, accuracy: 0.6842\n",
      "Epoch 41, CIFAR-10 Batch 4:  Cost: 0.0038, accuracy: 0.6982\n",
      "Epoch 41, CIFAR-10 Batch 5:  Cost: 0.0001, accuracy: 0.6982\n",
      "Epoch 42, CIFAR-10 Batch 1:  Cost: 0.0003, accuracy: 0.6816\n",
      "Epoch 42, CIFAR-10 Batch 2:  Cost: 0.0024, accuracy: 0.6976\n",
      "Epoch 42, CIFAR-10 Batch 3:  Cost: 0.0006, accuracy: 0.6900\n",
      "Epoch 42, CIFAR-10 Batch 4:  Cost: 0.0017, accuracy: 0.6922\n",
      "Epoch 42, CIFAR-10 Batch 5:  Cost: 0.0008, accuracy: 0.6948\n",
      "Epoch 43, CIFAR-10 Batch 1:  Cost: 0.0001, accuracy: 0.7012\n",
      "Epoch 43, CIFAR-10 Batch 2:  Cost: 0.0041, accuracy: 0.6982\n",
      "Epoch 43, CIFAR-10 Batch 3:  Cost: 0.0001, accuracy: 0.6926\n",
      "Epoch 43, CIFAR-10 Batch 4:  Cost: 0.0005, accuracy: 0.6724\n",
      "Epoch 43, CIFAR-10 Batch 5:  Cost: 0.0004, accuracy: 0.6898\n",
      "Epoch 44, CIFAR-10 Batch 1:  Cost: 0.0000, accuracy: 0.6860\n",
      "Epoch 44, CIFAR-10 Batch 2:  Cost: 0.0004, accuracy: 0.6982\n",
      "Epoch 44, CIFAR-10 Batch 3:  Cost: 0.0002, accuracy: 0.6772\n",
      "Epoch 44, CIFAR-10 Batch 4:  Cost: 0.0004, accuracy: 0.6998\n",
      "Epoch 44, CIFAR-10 Batch 5:  Cost: 0.0001, accuracy: 0.6984\n",
      "Epoch 45, CIFAR-10 Batch 1:  Cost: 0.0008, accuracy: 0.6896\n",
      "Epoch 45, CIFAR-10 Batch 2:  Cost: 0.0000, accuracy: 0.6980\n",
      "Epoch 45, CIFAR-10 Batch 3:  Cost: 0.0000, accuracy: 0.6840\n",
      "Epoch 45, CIFAR-10 Batch 4:  Cost: 0.0006, accuracy: 0.6974\n",
      "Epoch 45, CIFAR-10 Batch 5:  Cost: 0.0001, accuracy: 0.6950\n",
      "Epoch 46, CIFAR-10 Batch 1:  Cost: 0.0001, accuracy: 0.6980\n",
      "Epoch 46, CIFAR-10 Batch 2:  Cost: 0.0012, accuracy: 0.6954\n",
      "Epoch 46, CIFAR-10 Batch 3:  Cost: 0.0022, accuracy: 0.6894\n",
      "Epoch 46, CIFAR-10 Batch 4:  Cost: 0.0017, accuracy: 0.6888\n",
      "Epoch 46, CIFAR-10 Batch 5:  Cost: 0.0000, accuracy: 0.7004\n",
      "Epoch 47, CIFAR-10 Batch 1:  Cost: 0.0011, accuracy: 0.6992\n",
      "Epoch 47, CIFAR-10 Batch 2:  Cost: 0.0003, accuracy: 0.6962\n",
      "Epoch 47, CIFAR-10 Batch 3:  Cost: 0.0001, accuracy: 0.6898\n",
      "Epoch 47, CIFAR-10 Batch 4:  Cost: 0.0018, accuracy: 0.6852\n",
      "Epoch 47, CIFAR-10 Batch 5:  Cost: 0.0001, accuracy: 0.6786\n",
      "Epoch 48, CIFAR-10 Batch 1:  Cost: 0.0001, accuracy: 0.6996\n",
      "Epoch 48, CIFAR-10 Batch 2:  Cost: 0.0001, accuracy: 0.6946\n",
      "Epoch 48, CIFAR-10 Batch 3:  Cost: 0.0000, accuracy: 0.6802\n",
      "Epoch 48, CIFAR-10 Batch 4:  Cost: 0.0025, accuracy: 0.6962\n",
      "Epoch 48, CIFAR-10 Batch 5:  Cost: 0.0003, accuracy: 0.7062\n",
      "Epoch 49, CIFAR-10 Batch 1:  Cost: 0.0000, accuracy: 0.7052\n",
      "Epoch 49, CIFAR-10 Batch 2:  Cost: 0.0001, accuracy: 0.6894\n",
      "Epoch 49, CIFAR-10 Batch 3:  Cost: 0.0014, accuracy: 0.6886\n",
      "Epoch 49, CIFAR-10 Batch 4:  Cost: 0.0004, accuracy: 0.6938\n",
      "Epoch 49, CIFAR-10 Batch 5:  Cost: 0.0002, accuracy: 0.6898\n",
      "Epoch 50, CIFAR-10 Batch 1:  Cost: 0.0027, accuracy: 0.7026\n",
      "Epoch 50, CIFAR-10 Batch 2:  Cost: 0.0000, accuracy: 0.7020\n",
      "Epoch 50, CIFAR-10 Batch 3:  Cost: 0.0001, accuracy: 0.6924\n",
      "Epoch 50, CIFAR-10 Batch 4:  Cost: 0.0000, accuracy: 0.6954\n",
      "Epoch 50, CIFAR-10 Batch 5:  Cost: 0.0004, accuracy: 0.7048\n",
      "Epoch 51, CIFAR-10 Batch 1:  Cost: 0.0002, accuracy: 0.7110\n",
      "Epoch 51, CIFAR-10 Batch 2:  Cost: 0.0009, accuracy: 0.6926\n",
      "Epoch 51, CIFAR-10 Batch 3:  Cost: 0.0000, accuracy: 0.6970\n",
      "Epoch 51, CIFAR-10 Batch 4:  Cost: 0.0003, accuracy: 0.6942\n",
      "Epoch 51, CIFAR-10 Batch 5:  Cost: 0.0009, accuracy: 0.6916\n",
      "Epoch 52, CIFAR-10 Batch 1:  Cost: 0.0007, accuracy: 0.7016\n",
      "Epoch 52, CIFAR-10 Batch 2:  Cost: 0.0004, accuracy: 0.7056\n",
      "Epoch 52, CIFAR-10 Batch 3:  Cost: 0.0000, accuracy: 0.6978\n",
      "Epoch 52, CIFAR-10 Batch 4:  Cost: 0.0002, accuracy: 0.7040\n",
      "Epoch 52, CIFAR-10 Batch 5:  Cost: 0.0051, accuracy: 0.7032\n",
      "Epoch 53, CIFAR-10 Batch 1:  Cost: 0.0017, accuracy: 0.7012\n",
      "Epoch 53, CIFAR-10 Batch 2:  Cost: 0.0003, accuracy: 0.6862\n",
      "Epoch 53, CIFAR-10 Batch 3:  Cost: 0.0000, accuracy: 0.6940\n",
      "Epoch 53, CIFAR-10 Batch 4:  Cost: 0.0016, accuracy: 0.6988\n",
      "Epoch 53, CIFAR-10 Batch 5:  Cost: 0.0008, accuracy: 0.6950\n",
      "Epoch 54, CIFAR-10 Batch 1:  Cost: 0.0001, accuracy: 0.6970\n",
      "Epoch 54, CIFAR-10 Batch 2:  Cost: 0.0007, accuracy: 0.6934\n",
      "Epoch 54, CIFAR-10 Batch 3:  Cost: 0.0004, accuracy: 0.6962\n",
      "Epoch 54, CIFAR-10 Batch 4:  Cost: 0.0003, accuracy: 0.6984\n",
      "Epoch 54, CIFAR-10 Batch 5:  Cost: 0.0001, accuracy: 0.6962\n",
      "Epoch 55, CIFAR-10 Batch 1:  Cost: 0.0002, accuracy: 0.7084\n",
      "Epoch 55, CIFAR-10 Batch 2:  Cost: 0.0020, accuracy: 0.6922\n",
      "Epoch 55, CIFAR-10 Batch 3:  Cost: 0.0000, accuracy: 0.6824\n"
     ]
    },
    {
     "name": "stdout",
     "output_type": "stream",
     "text": [
      "Epoch 55, CIFAR-10 Batch 4:  Cost: 0.0020, accuracy: 0.6918\n",
      "Epoch 55, CIFAR-10 Batch 5:  Cost: 0.0001, accuracy: 0.6934\n",
      "Epoch 56, CIFAR-10 Batch 1:  Cost: 0.0002, accuracy: 0.7092\n",
      "Epoch 56, CIFAR-10 Batch 2:  Cost: 0.0002, accuracy: 0.6974\n",
      "Epoch 56, CIFAR-10 Batch 3:  Cost: 0.0006, accuracy: 0.6688\n",
      "Epoch 56, CIFAR-10 Batch 4:  Cost: 0.0001, accuracy: 0.6918\n",
      "Epoch 56, CIFAR-10 Batch 5:  Cost: 0.0001, accuracy: 0.6954\n",
      "Epoch 57, CIFAR-10 Batch 1:  Cost: 0.0001, accuracy: 0.7142\n",
      "Epoch 57, CIFAR-10 Batch 2:  Cost: 0.0003, accuracy: 0.7058\n",
      "Epoch 57, CIFAR-10 Batch 3:  Cost: 0.0002, accuracy: 0.6942\n",
      "Epoch 57, CIFAR-10 Batch 4:  Cost: 0.0002, accuracy: 0.6982\n",
      "Epoch 57, CIFAR-10 Batch 5:  Cost: 0.0008, accuracy: 0.6964\n",
      "Epoch 58, CIFAR-10 Batch 1:  Cost: 0.0000, accuracy: 0.7088\n",
      "Epoch 58, CIFAR-10 Batch 2:  Cost: 0.0004, accuracy: 0.7072\n",
      "Epoch 58, CIFAR-10 Batch 3:  Cost: 0.0002, accuracy: 0.6926\n",
      "Epoch 58, CIFAR-10 Batch 4:  Cost: 0.0002, accuracy: 0.6864\n",
      "Epoch 58, CIFAR-10 Batch 5:  Cost: 0.0004, accuracy: 0.6854\n",
      "Epoch 59, CIFAR-10 Batch 1:  Cost: 0.0001, accuracy: 0.7014\n",
      "Epoch 59, CIFAR-10 Batch 2:  Cost: 0.0004, accuracy: 0.7010\n",
      "Epoch 59, CIFAR-10 Batch 3:  Cost: 0.0002, accuracy: 0.6844\n",
      "Epoch 59, CIFAR-10 Batch 4:  Cost: 0.0005, accuracy: 0.6932\n",
      "Epoch 59, CIFAR-10 Batch 5:  Cost: 0.0007, accuracy: 0.7004\n",
      "Epoch 60, CIFAR-10 Batch 1:  Cost: 0.0006, accuracy: 0.7056\n",
      "Epoch 60, CIFAR-10 Batch 2:  Cost: 0.0001, accuracy: 0.6954\n",
      "Epoch 60, CIFAR-10 Batch 3:  Cost: 0.0076, accuracy: 0.6896\n",
      "Epoch 60, CIFAR-10 Batch 4:  Cost: 0.0012, accuracy: 0.6942\n",
      "Epoch 60, CIFAR-10 Batch 5:  Cost: 0.0000, accuracy: 0.7078\n",
      "Epoch 61, CIFAR-10 Batch 1:  Cost: 0.0001, accuracy: 0.6988\n",
      "Epoch 61, CIFAR-10 Batch 2:  Cost: 0.0007, accuracy: 0.6998\n",
      "Epoch 61, CIFAR-10 Batch 3:  Cost: 0.0018, accuracy: 0.6794\n",
      "Epoch 61, CIFAR-10 Batch 4:  Cost: 0.0011, accuracy: 0.6956\n",
      "Epoch 61, CIFAR-10 Batch 5:  Cost: 0.0000, accuracy: 0.7072\n",
      "Epoch 62, CIFAR-10 Batch 1:  Cost: 0.0000, accuracy: 0.7088\n",
      "Epoch 62, CIFAR-10 Batch 2:  Cost: 0.0001, accuracy: 0.7014\n",
      "Epoch 62, CIFAR-10 Batch 3:  Cost: 0.0002, accuracy: 0.6924\n",
      "Epoch 62, CIFAR-10 Batch 4:  Cost: 0.0001, accuracy: 0.6902\n",
      "Epoch 62, CIFAR-10 Batch 5:  Cost: 0.0002, accuracy: 0.6934\n",
      "Epoch 63, CIFAR-10 Batch 1:  Cost: 0.0000, accuracy: 0.7120\n",
      "Epoch 63, CIFAR-10 Batch 2:  Cost: 0.0000, accuracy: 0.7000\n",
      "Epoch 63, CIFAR-10 Batch 3:  Cost: 0.0000, accuracy: 0.6912\n",
      "Epoch 63, CIFAR-10 Batch 4:  Cost: 0.0003, accuracy: 0.6878\n",
      "Epoch 63, CIFAR-10 Batch 5:  Cost: 0.0088, accuracy: 0.6832\n",
      "Epoch 64, CIFAR-10 Batch 1:  Cost: 0.0007, accuracy: 0.7116\n",
      "Epoch 64, CIFAR-10 Batch 2:  Cost: 0.0000, accuracy: 0.7136\n",
      "Epoch 64, CIFAR-10 Batch 3:  Cost: 0.0000, accuracy: 0.6892\n",
      "Epoch 64, CIFAR-10 Batch 4:  Cost: 0.0007, accuracy: 0.6920\n",
      "Epoch 64, CIFAR-10 Batch 5:  Cost: 0.0001, accuracy: 0.7062\n",
      "Epoch 65, CIFAR-10 Batch 1:  Cost: 0.0000, accuracy: 0.7050\n",
      "Epoch 65, CIFAR-10 Batch 2:  Cost: 0.0003, accuracy: 0.6984\n",
      "Epoch 65, CIFAR-10 Batch 3:  Cost: 0.0000, accuracy: 0.7024\n",
      "Epoch 65, CIFAR-10 Batch 4:  Cost: 0.0000, accuracy: 0.6856\n",
      "Epoch 65, CIFAR-10 Batch 5:  Cost: 0.0005, accuracy: 0.7008\n",
      "Epoch 66, CIFAR-10 Batch 1:  Cost: 0.0007, accuracy: 0.7116\n",
      "Epoch 66, CIFAR-10 Batch 2:  Cost: 0.0013, accuracy: 0.7088\n",
      "Epoch 66, CIFAR-10 Batch 3:  Cost: 0.0001, accuracy: 0.6918\n",
      "Epoch 66, CIFAR-10 Batch 4:  Cost: 0.0000, accuracy: 0.6912\n",
      "Epoch 66, CIFAR-10 Batch 5:  Cost: 0.0002, accuracy: 0.6936\n",
      "Epoch 67, CIFAR-10 Batch 1:  Cost: 0.0001, accuracy: 0.6988\n",
      "Epoch 67, CIFAR-10 Batch 2:  Cost: 0.0000, accuracy: 0.7070\n",
      "Epoch 67, CIFAR-10 Batch 3:  Cost: 0.0000, accuracy: 0.6918\n",
      "Epoch 67, CIFAR-10 Batch 4:  Cost: 0.0001, accuracy: 0.6922\n",
      "Epoch 67, CIFAR-10 Batch 5:  Cost: 0.0009, accuracy: 0.7050\n",
      "Epoch 68, CIFAR-10 Batch 1:  Cost: 0.0000, accuracy: 0.7048\n",
      "Epoch 68, CIFAR-10 Batch 2:  Cost: 0.0055, accuracy: 0.7042\n",
      "Epoch 68, CIFAR-10 Batch 3:  Cost: 0.0000, accuracy: 0.7104\n",
      "Epoch 68, CIFAR-10 Batch 4:  Cost: 0.0003, accuracy: 0.6804\n",
      "Epoch 68, CIFAR-10 Batch 5:  Cost: 0.0003, accuracy: 0.7044\n",
      "Epoch 69, CIFAR-10 Batch 1:  Cost: 0.0003, accuracy: 0.7074\n",
      "Epoch 69, CIFAR-10 Batch 2:  Cost: 0.0001, accuracy: 0.7076\n",
      "Epoch 69, CIFAR-10 Batch 3:  Cost: 0.0025, accuracy: 0.6894\n",
      "Epoch 69, CIFAR-10 Batch 4:  Cost: 0.0000, accuracy: 0.6906\n",
      "Epoch 69, CIFAR-10 Batch 5:  Cost: 0.0000, accuracy: 0.7158\n",
      "Epoch 70, CIFAR-10 Batch 1:  Cost: 0.0002, accuracy: 0.6974\n",
      "Epoch 70, CIFAR-10 Batch 2:  Cost: 0.0013, accuracy: 0.7028\n",
      "Epoch 70, CIFAR-10 Batch 3:  Cost: 0.0000, accuracy: 0.6946\n",
      "Epoch 70, CIFAR-10 Batch 4:  Cost: 0.0002, accuracy: 0.6856\n",
      "Epoch 70, CIFAR-10 Batch 5:  Cost: 0.0004, accuracy: 0.7082\n",
      "Epoch 71, CIFAR-10 Batch 1:  Cost: 0.0001, accuracy: 0.7028\n",
      "Epoch 71, CIFAR-10 Batch 2:  Cost: 0.0001, accuracy: 0.7020\n",
      "Epoch 71, CIFAR-10 Batch 3:  Cost: 0.0001, accuracy: 0.7016\n",
      "Epoch 71, CIFAR-10 Batch 4:  Cost: 0.0208, accuracy: 0.6844\n",
      "Epoch 71, CIFAR-10 Batch 5:  Cost: 0.0003, accuracy: 0.7014\n",
      "Epoch 72, CIFAR-10 Batch 1:  Cost: 0.0006, accuracy: 0.7110\n",
      "Epoch 72, CIFAR-10 Batch 2:  Cost: 0.0014, accuracy: 0.7076\n",
      "Epoch 72, CIFAR-10 Batch 3:  Cost: 0.0001, accuracy: 0.6852\n",
      "Epoch 72, CIFAR-10 Batch 4:  Cost: 0.0005, accuracy: 0.6868\n",
      "Epoch 72, CIFAR-10 Batch 5:  Cost: 0.0002, accuracy: 0.7000\n",
      "Epoch 73, CIFAR-10 Batch 1:  Cost: 0.0000, accuracy: 0.7094\n",
      "Epoch 73, CIFAR-10 Batch 2:  Cost: 0.0907, accuracy: 0.7058\n",
      "Epoch 73, CIFAR-10 Batch 3:  Cost: 0.0001, accuracy: 0.7026\n",
      "Epoch 73, CIFAR-10 Batch 4:  Cost: 0.0042, accuracy: 0.6886\n",
      "Epoch 73, CIFAR-10 Batch 5:  Cost: 0.0000, accuracy: 0.7108\n",
      "Epoch 74, CIFAR-10 Batch 1:  Cost: 0.0019, accuracy: 0.7042\n",
      "Epoch 74, CIFAR-10 Batch 2:  Cost: 0.0010, accuracy: 0.7050\n",
      "Epoch 74, CIFAR-10 Batch 3:  Cost: 0.0001, accuracy: 0.7138\n",
      "Epoch 74, CIFAR-10 Batch 4:  Cost: 0.0006, accuracy: 0.6692\n",
      "Epoch 74, CIFAR-10 Batch 5:  Cost: 0.0001, accuracy: 0.6912\n",
      "Epoch 75, CIFAR-10 Batch 1:  Cost: 0.0104, accuracy: 0.7080\n",
      "Epoch 75, CIFAR-10 Batch 2:  Cost: 0.0004, accuracy: 0.7064\n",
      "Epoch 75, CIFAR-10 Batch 3:  Cost: 0.0001, accuracy: 0.7064\n",
      "Epoch 75, CIFAR-10 Batch 4:  Cost: 0.0002, accuracy: 0.6866\n",
      "Epoch 75, CIFAR-10 Batch 5:  Cost: 0.0001, accuracy: 0.7094\n"
     ]
    }
   ],
   "source": [
    "\"\"\"\n",
    "DON'T MODIFY ANYTHING IN THIS CELL\n",
    "\"\"\"\n",
    "save_model_path = './image_classification'\n",
    "\n",
    "print('Training...')\n",
    "with tf.Session() as sess:\n",
    "    # Initializing the variables\n",
    "    sess.run(tf.global_variables_initializer())\n",
    "    \n",
    "    # Training cycle\n",
    "    for epoch in range(epochs):\n",
    "        # Loop over all batches\n",
    "        n_batches = 5\n",
    "        for batch_i in range(1, n_batches + 1):\n",
    "            for batch_features, batch_labels in helper.load_preprocess_training_batch(batch_i, batch_size):\n",
    "                train_neural_network(sess, optimizer, keep_probability, batch_features, batch_labels)\n",
    "            print('Epoch {:>2}, CIFAR-10 Batch {}:  '.format(epoch + 1, batch_i), end='')\n",
    "            print_stats(sess, batch_features, batch_labels, cost, accuracy)\n",
    "            \n",
    "    # Save Model\n",
    "    saver = tf.train.Saver()\n",
    "    save_path = saver.save(sess, save_model_path)"
   ]
  },
  {
   "cell_type": "markdown",
   "metadata": {
    "colab_type": "text",
    "id": "qz2anolfVOb-"
   },
   "source": [
    "# Checkpoint\n",
    "The model has been saved to disk.\n",
    "## Test Model\n",
    "Test your model against the test dataset.  This will be your final accuracy. You should have an accuracy greater than 50%. If you don't, keep tweaking the model architecture and parameters."
   ]
  },
  {
   "cell_type": "code",
   "execution_count": 18,
   "metadata": {
    "colab": {
     "autoexec": {
      "startup": false,
      "wait_interval": 0
     },
     "base_uri": "https://localhost:8080/",
     "height": 387
    },
    "colab_type": "code",
    "executionInfo": {
     "elapsed": 3349,
     "status": "ok",
     "timestamp": 1528624218988,
     "user": {
      "displayName": "ABHISHEK DUBEY",
      "photoUrl": "https://lh3.googleusercontent.com/a/default-user=s128",
      "userId": "115074753493421841240"
     },
     "user_tz": -330
    },
    "id": "2H-ZCrJ5VOcB",
    "outputId": "8013d308-7970-4b11-a2a8-13a28e76a5cd"
   },
   "outputs": [
    {
     "name": "stdout",
     "output_type": "stream",
     "text": [
      "INFO:tensorflow:Restoring parameters from ./image_classification\n",
      "Testing Accuracy: 0.70361328125\n",
      "\n"
     ]
    },
    {
     "data": {
      "image/png": "[encoded data removed]",
      "text/plain": [
       "<Figure size 432x288 with 8 Axes>"
      ]
     },
     "metadata": {
      "image/png": {
       "height": 319,
       "width": 355
      }
     },
     "output_type": "display_data"
    }
   ],
   "source": [
    "\"\"\"\n",
    "DON'T MODIFY ANYTHING IN THIS CELL\n",
    "\"\"\"\n",
    "%matplotlib inline\n",
    "%config InlineBackend.figure_format = 'retina'\n",
    "\n",
    "import tensorflow as tf\n",
    "import pickle\n",
    "import helper\n",
    "import random\n",
    "\n",
    "# Set batch size if not already set\n",
    "try:\n",
    "    if batch_size:\n",
    "        pass\n",
    "except NameError:\n",
    "    batch_size = 64\n",
    "\n",
    "save_model_path = './image_classification'\n",
    "n_samples = 4\n",
    "top_n_predictions = 3\n",
    "\n",
    "def test_model():\n",
    "    \"\"\"\n",
    "    Test the saved model against the test dataset\n",
    "    \"\"\"\n",
    "\n",
    "    test_features, test_labels = pickle.load(open('preprocess_training.p', mode='rb'))\n",
    "    loaded_graph = tf.Graph()\n",
    "\n",
    "    with tf.Session(graph=loaded_graph) as sess:\n",
    "        # Load model\n",
    "        loader = tf.train.import_meta_graph(save_model_path + '.meta')\n",
    "        loader.restore(sess, save_model_path)\n",
    "\n",
    "        # Get Tensors from loaded model\n",
    "        loaded_x = loaded_graph.get_tensor_by_name('x:0')\n",
    "        loaded_y = loaded_graph.get_tensor_by_name('y:0')\n",
    "        loaded_keep_prob = loaded_graph.get_tensor_by_name('keep_prob:0')\n",
    "        loaded_logits = loaded_graph.get_tensor_by_name('logits:0')\n",
    "        loaded_acc = loaded_graph.get_tensor_by_name('accuracy:0')\n",
    "        \n",
    "        # Get accuracy in batches for memory limitations\n",
    "        test_batch_acc_total = 0\n",
    "        test_batch_count = 0\n",
    "        \n",
    "        for train_feature_batch, train_label_batch in helper.batch_features_labels(test_features, test_labels, batch_size):\n",
    "            test_batch_acc_total += sess.run(\n",
    "                loaded_acc,\n",
    "                feed_dict={loaded_x: train_feature_batch, loaded_y: train_label_batch, loaded_keep_prob: 1.0})\n",
    "            test_batch_count += 1\n",
    "\n",
    "        print('Testing Accuracy: {}\\n'.format(test_batch_acc_total/test_batch_count))\n",
    "\n",
    "        # Print Random Samples\n",
    "        random_test_features, random_test_labels = tuple(zip(*random.sample(list(zip(test_features, test_labels)), n_samples)))\n",
    "        random_test_predictions = sess.run(\n",
    "            tf.nn.top_k(tf.nn.softmax(loaded_logits), top_n_predictions),\n",
    "            feed_dict={loaded_x: random_test_features, loaded_y: random_test_labels, loaded_keep_prob: 1.0})\n",
    "        helper.display_image_predictions(random_test_features, random_test_labels, random_test_predictions)\n",
    "\n",
    "\n",
    "test_model()"
   ]
  },
  {
   "cell_type": "markdown",
   "metadata": {
    "colab_type": "text",
    "id": "1lZkuNvEVOdG"
   },
   "source": [
    "## Why 50-80% Accuracy?\n",
    "You might be wondering why you can't get an accuracy any higher. First things first, 50% isn't bad for a simple CNN.  Pure guessing would get you 10% accuracy. That's because there are many more techniques that can be applied to your model and we recemmond that once you are done with this project, you explore!\n",
    "\n",
    "## Submitting This Project\n",
    "When submitting this project, make sure to run all the cells before saving the notebook.  Save the notebook file as \"image_classification.ipynb\" and save it as a HTML file under \"File\" -> \"Download as\".  Include the \"helper.py\" and \"problem_unittests.py\" files in your submission."
   ]
  }
 ],
 "metadata": {
  "accelerator": "GPU",
  "colab": {
   "collapsed_sections": [],
   "default_view": {},
   "name": "image_classification.ipynb",
   "provenance": [],
   "version": "0.3.2",
   "views": {}
  },
  "kernelspec": {
   "display_name": "Python 3",
   "language": "python",
   "name": "python3"
  },
  "language_info": {
   "codemirror_mode": {
    "name": "ipython",
    "version": 3
   },
   "file_extension": ".py",
   "mimetype": "text/x-python",
   "name": "python",
   "nbconvert_exporter": "python",
   "pygments_lexer": "ipython3",
   "version": "3.6.5"
  }
 },
 "nbformat": 4,
 "nbformat_minor": 1
}
